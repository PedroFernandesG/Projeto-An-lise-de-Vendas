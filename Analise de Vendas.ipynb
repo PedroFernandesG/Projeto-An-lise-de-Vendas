{
 "cells": [
  {
   "cell_type": "markdown",
   "id": "57b66fe8",
   "metadata": {},
   "source": [
    "# Projeto de Ànalise de Dados"
   ]
  },
  {
   "cell_type": "code",
   "execution_count": 5,
   "id": "3ee7c47f",
   "metadata": {},
   "outputs": [],
   "source": [
    "#Vamos importar a biblioteca para trabalhar com arquivos\n",
    "import os\n",
    "#Vamos importar a biblioteca para ler os arquivos\n",
    "import pandas as pd\n",
    "\n",
    "#Biblioteca Grafica\n",
    "import plotly.express as px\n",
    "import numpy as np"
   ]
  },
  {
   "cell_type": "code",
   "execution_count": 6,
   "id": "8fc0e50a",
   "metadata": {},
   "outputs": [
    {
     "data": {
      "text/plain": [
       "['Devolucoes - Belo Horizonte.csv',\n",
       " 'Devolucoes - Curitiba.csv',\n",
       " 'Devolucoes - Fortaleza.csv',\n",
       " 'Devolucoes - Goiás.csv',\n",
       " 'Devolucoes - Porto Alegre.csv',\n",
       " 'Devolucoes - Recife.csv',\n",
       " 'Devolucoes - Rio de Janeiro.csv',\n",
       " 'Devolucoes - Salvador.csv',\n",
       " 'Devolucoes - São Paulo.csv',\n",
       " 'Vendas - Belo Horizonte.csv',\n",
       " 'Vendas - Curitiba.csv',\n",
       " 'Vendas - Fortaleza.csv',\n",
       " 'Vendas - Goiás.csv',\n",
       " 'Vendas - Porto Alegre.csv',\n",
       " 'Vendas - Recife.csv',\n",
       " 'Vendas - Rio de Janeiro.csv',\n",
       " 'Vendas - Salvador.csv',\n",
       " 'Vendas - São Paulo.csv']"
      ]
     },
     "metadata": {},
     "output_type": "display_data"
    }
   ],
   "source": [
    "#Vamos percorrer todos os arquivos que estão dentro da pasta vendas\n",
    "\n",
    "file_list = os.listdir(\"Vendas1/Vendas\")\n",
    "\n",
    "#Podemos ver todos os arquivos da nossa base de dados\n",
    "display(file_list)"
   ]
  },
  {
   "cell_type": "code",
   "execution_count": 7,
   "id": "b5ace9d6",
   "metadata": {},
   "outputs": [
    {
     "name": "stdout",
     "output_type": "stream",
     "text": [
      "Vendas - Belo Horizonte.csv\n"
     ]
    },
    {
     "data": {
      "text/html": [
       "<div>\n",
       "<style scoped>\n",
       "    .dataframe tbody tr th:only-of-type {\n",
       "        vertical-align: middle;\n",
       "    }\n",
       "\n",
       "    .dataframe tbody tr th {\n",
       "        vertical-align: top;\n",
       "    }\n",
       "\n",
       "    .dataframe thead th {\n",
       "        text-align: right;\n",
       "    }\n",
       "</style>\n",
       "<table border=\"1\" class=\"dataframe\">\n",
       "  <thead>\n",
       "    <tr style=\"text-align: right;\">\n",
       "      <th></th>\n",
       "      <th>Unnamed: 0</th>\n",
       "      <th>SKU</th>\n",
       "      <th>Produto</th>\n",
       "      <th>Quantidade Vendida</th>\n",
       "      <th>Primeiro Nome</th>\n",
       "      <th>Sobrenome</th>\n",
       "      <th>Data</th>\n",
       "      <th>Loja</th>\n",
       "      <th>Preco Unitario</th>\n",
       "      <th>Unnamed: 8</th>\n",
       "    </tr>\n",
       "  </thead>\n",
       "  <tbody>\n",
       "    <tr>\n",
       "      <th>0</th>\n",
       "      <td>17</td>\n",
       "      <td>HL4379</td>\n",
       "      <td>Televisão</td>\n",
       "      <td>2</td>\n",
       "      <td>Carolina</td>\n",
       "      <td>Alfradique</td>\n",
       "      <td>2/25/2018</td>\n",
       "      <td>Belo Horizonte</td>\n",
       "      <td>2500</td>\n",
       "      <td>NaN</td>\n",
       "    </tr>\n",
       "    <tr>\n",
       "      <th>1</th>\n",
       "      <td>25</td>\n",
       "      <td>HL4379</td>\n",
       "      <td>Televisão</td>\n",
       "      <td>1</td>\n",
       "      <td>Danilo</td>\n",
       "      <td>Rubim</td>\n",
       "      <td>2/20/2018</td>\n",
       "      <td>Belo Horizonte</td>\n",
       "      <td>2500</td>\n",
       "      <td>NaN</td>\n",
       "    </tr>\n",
       "    <tr>\n",
       "      <th>2</th>\n",
       "      <td>27</td>\n",
       "      <td>HL1918</td>\n",
       "      <td>iPhone</td>\n",
       "      <td>5</td>\n",
       "      <td>Bernard</td>\n",
       "      <td>Pedrosa</td>\n",
       "      <td>7/7/2018</td>\n",
       "      <td>Belo Horizonte</td>\n",
       "      <td>5300</td>\n",
       "      <td>NaN</td>\n",
       "    </tr>\n",
       "    <tr>\n",
       "      <th>3</th>\n",
       "      <td>54</td>\n",
       "      <td>HL1918</td>\n",
       "      <td>iPhone</td>\n",
       "      <td>5</td>\n",
       "      <td>Lucas</td>\n",
       "      <td>Lemos</td>\n",
       "      <td>12/26/2018</td>\n",
       "      <td>Belo Horizonte</td>\n",
       "      <td>5300</td>\n",
       "      <td>NaN</td>\n",
       "    </tr>\n",
       "    <tr>\n",
       "      <th>4</th>\n",
       "      <td>67</td>\n",
       "      <td>HL8851</td>\n",
       "      <td>Notebook</td>\n",
       "      <td>5</td>\n",
       "      <td>Bernardo</td>\n",
       "      <td>Botelho</td>\n",
       "      <td>6/8/2018</td>\n",
       "      <td>Belo Horizonte</td>\n",
       "      <td>3500</td>\n",
       "      <td>NaN</td>\n",
       "    </tr>\n",
       "    <tr>\n",
       "      <th>...</th>\n",
       "      <td>...</td>\n",
       "      <td>...</td>\n",
       "      <td>...</td>\n",
       "      <td>...</td>\n",
       "      <td>...</td>\n",
       "      <td>...</td>\n",
       "      <td>...</td>\n",
       "      <td>...</td>\n",
       "      <td>...</td>\n",
       "      <td>...</td>\n",
       "    </tr>\n",
       "    <tr>\n",
       "      <th>644</th>\n",
       "      <td>9910</td>\n",
       "      <td>HL1148</td>\n",
       "      <td>Câmera</td>\n",
       "      <td>4</td>\n",
       "      <td>Norman</td>\n",
       "      <td>Jimbo</td>\n",
       "      <td>2/17/2018</td>\n",
       "      <td>Belo Horizonte</td>\n",
       "      <td>2100</td>\n",
       "      <td>NaN</td>\n",
       "    </tr>\n",
       "    <tr>\n",
       "      <th>645</th>\n",
       "      <td>9927</td>\n",
       "      <td>HL2714</td>\n",
       "      <td>Tablet</td>\n",
       "      <td>2</td>\n",
       "      <td>Marina</td>\n",
       "      <td>Marins</td>\n",
       "      <td>1/29/2018</td>\n",
       "      <td>Belo Horizonte</td>\n",
       "      <td>1600</td>\n",
       "      <td>NaN</td>\n",
       "    </tr>\n",
       "    <tr>\n",
       "      <th>646</th>\n",
       "      <td>9932</td>\n",
       "      <td>HL1918</td>\n",
       "      <td>iPhone</td>\n",
       "      <td>1</td>\n",
       "      <td>José</td>\n",
       "      <td>Vieira</td>\n",
       "      <td>5/11/2018</td>\n",
       "      <td>Belo Horizonte</td>\n",
       "      <td>5300</td>\n",
       "      <td>NaN</td>\n",
       "    </tr>\n",
       "    <tr>\n",
       "      <th>647</th>\n",
       "      <td>9942</td>\n",
       "      <td>HL4379</td>\n",
       "      <td>Televisão</td>\n",
       "      <td>1</td>\n",
       "      <td>Fernanda</td>\n",
       "      <td>Junior</td>\n",
       "      <td>2/9/2018</td>\n",
       "      <td>Belo Horizonte</td>\n",
       "      <td>2500</td>\n",
       "      <td>NaN</td>\n",
       "    </tr>\n",
       "    <tr>\n",
       "      <th>648</th>\n",
       "      <td>9978</td>\n",
       "      <td>HL8851</td>\n",
       "      <td>Notebook</td>\n",
       "      <td>2</td>\n",
       "      <td>Mariane</td>\n",
       "      <td>Racy</td>\n",
       "      <td>12/28/2018</td>\n",
       "      <td>Belo Horizonte</td>\n",
       "      <td>3500</td>\n",
       "      <td>NaN</td>\n",
       "    </tr>\n",
       "  </tbody>\n",
       "</table>\n",
       "<p>649 rows × 10 columns</p>\n",
       "</div>"
      ],
      "text/plain": [
       "     Unnamed: 0     SKU    Produto  Quantidade Vendida Primeiro Nome  \\\n",
       "0            17  HL4379  Televisão                   2      Carolina   \n",
       "1            25  HL4379  Televisão                   1        Danilo   \n",
       "2            27  HL1918     iPhone                   5       Bernard   \n",
       "3            54  HL1918     iPhone                   5         Lucas   \n",
       "4            67  HL8851   Notebook                   5      Bernardo   \n",
       "..          ...     ...        ...                 ...           ...   \n",
       "644        9910  HL1148     Câmera                   4        Norman   \n",
       "645        9927  HL2714     Tablet                   2        Marina   \n",
       "646        9932  HL1918     iPhone                   1          José   \n",
       "647        9942  HL4379  Televisão                   1      Fernanda   \n",
       "648        9978  HL8851   Notebook                   2       Mariane   \n",
       "\n",
       "      Sobrenome        Data            Loja  Preco Unitario  Unnamed: 8  \n",
       "0    Alfradique   2/25/2018  Belo Horizonte            2500         NaN  \n",
       "1         Rubim   2/20/2018  Belo Horizonte            2500         NaN  \n",
       "2       Pedrosa    7/7/2018  Belo Horizonte            5300         NaN  \n",
       "3         Lemos  12/26/2018  Belo Horizonte            5300         NaN  \n",
       "4       Botelho    6/8/2018  Belo Horizonte            3500         NaN  \n",
       "..          ...         ...             ...             ...         ...  \n",
       "644       Jimbo   2/17/2018  Belo Horizonte            2100         NaN  \n",
       "645      Marins   1/29/2018  Belo Horizonte            1600         NaN  \n",
       "646      Vieira   5/11/2018  Belo Horizonte            5300         NaN  \n",
       "647      Junior    2/9/2018  Belo Horizonte            2500         NaN  \n",
       "648        Racy  12/28/2018  Belo Horizonte            3500         NaN  \n",
       "\n",
       "[649 rows x 10 columns]"
      ]
     },
     "metadata": {},
     "output_type": "display_data"
    },
    {
     "name": "stdout",
     "output_type": "stream",
     "text": [
      "Vendas - Curitiba.csv\n"
     ]
    },
    {
     "name": "stderr",
     "output_type": "stream",
     "text": [
      "C:\\Users\\pedro\\AppData\\Local\\Temp\\ipykernel_60672\\3740801980.py:9: FutureWarning: The frame.append method is deprecated and will be removed from pandas in a future version. Use pandas.concat instead.\n",
      "  tabela_total = tabela_total.append(tabela)\n"
     ]
    },
    {
     "data": {
      "text/html": [
       "<div>\n",
       "<style scoped>\n",
       "    .dataframe tbody tr th:only-of-type {\n",
       "        vertical-align: middle;\n",
       "    }\n",
       "\n",
       "    .dataframe tbody tr th {\n",
       "        vertical-align: top;\n",
       "    }\n",
       "\n",
       "    .dataframe thead th {\n",
       "        text-align: right;\n",
       "    }\n",
       "</style>\n",
       "<table border=\"1\" class=\"dataframe\">\n",
       "  <thead>\n",
       "    <tr style=\"text-align: right;\">\n",
       "      <th></th>\n",
       "      <th>Unnamed: 0</th>\n",
       "      <th>SKU</th>\n",
       "      <th>Produto</th>\n",
       "      <th>Quantidade Vendida</th>\n",
       "      <th>Primeiro Nome</th>\n",
       "      <th>Sobrenome</th>\n",
       "      <th>Data</th>\n",
       "      <th>Loja</th>\n",
       "      <th>Preco Unitario</th>\n",
       "      <th>Unnamed: 8</th>\n",
       "    </tr>\n",
       "  </thead>\n",
       "  <tbody>\n",
       "    <tr>\n",
       "      <th>0</th>\n",
       "      <td>0</td>\n",
       "      <td>HL4379</td>\n",
       "      <td>Televisão</td>\n",
       "      <td>5</td>\n",
       "      <td>Gabriel</td>\n",
       "      <td>Thoni</td>\n",
       "      <td>6/30/2018</td>\n",
       "      <td>Curitiba</td>\n",
       "      <td>2500</td>\n",
       "      <td>NaN</td>\n",
       "    </tr>\n",
       "    <tr>\n",
       "      <th>1</th>\n",
       "      <td>7</td>\n",
       "      <td>HL2714</td>\n",
       "      <td>Tablet</td>\n",
       "      <td>2</td>\n",
       "      <td>Thays</td>\n",
       "      <td>Castro</td>\n",
       "      <td>3/7/2018</td>\n",
       "      <td>Curitiba</td>\n",
       "      <td>1600</td>\n",
       "      <td>NaN</td>\n",
       "    </tr>\n",
       "    <tr>\n",
       "      <th>2</th>\n",
       "      <td>22</td>\n",
       "      <td>HL1918</td>\n",
       "      <td>iPhone</td>\n",
       "      <td>3</td>\n",
       "      <td>Lucas</td>\n",
       "      <td>Rodrigues</td>\n",
       "      <td>10/8/2018</td>\n",
       "      <td>Curitiba</td>\n",
       "      <td>5300</td>\n",
       "      <td>NaN</td>\n",
       "    </tr>\n",
       "    <tr>\n",
       "      <th>3</th>\n",
       "      <td>28</td>\n",
       "      <td>HL1918</td>\n",
       "      <td>iPhone</td>\n",
       "      <td>3</td>\n",
       "      <td>Gabriel</td>\n",
       "      <td>Silva</td>\n",
       "      <td>8/21/2018</td>\n",
       "      <td>Curitiba</td>\n",
       "      <td>5300</td>\n",
       "      <td>NaN</td>\n",
       "    </tr>\n",
       "    <tr>\n",
       "      <th>4</th>\n",
       "      <td>59</td>\n",
       "      <td>HL4379</td>\n",
       "      <td>Televisão</td>\n",
       "      <td>3</td>\n",
       "      <td>Pedro</td>\n",
       "      <td>Conceição</td>\n",
       "      <td>5/16/2018</td>\n",
       "      <td>Curitiba</td>\n",
       "      <td>2500</td>\n",
       "      <td>NaN</td>\n",
       "    </tr>\n",
       "    <tr>\n",
       "      <th>...</th>\n",
       "      <td>...</td>\n",
       "      <td>...</td>\n",
       "      <td>...</td>\n",
       "      <td>...</td>\n",
       "      <td>...</td>\n",
       "      <td>...</td>\n",
       "      <td>...</td>\n",
       "      <td>...</td>\n",
       "      <td>...</td>\n",
       "      <td>...</td>\n",
       "    </tr>\n",
       "    <tr>\n",
       "      <th>714</th>\n",
       "      <td>9859</td>\n",
       "      <td>HL2714</td>\n",
       "      <td>Tablet</td>\n",
       "      <td>1</td>\n",
       "      <td>Júlio</td>\n",
       "      <td>Fraga</td>\n",
       "      <td>12/25/2018</td>\n",
       "      <td>Curitiba</td>\n",
       "      <td>1600</td>\n",
       "      <td>NaN</td>\n",
       "    </tr>\n",
       "    <tr>\n",
       "      <th>715</th>\n",
       "      <td>9876</td>\n",
       "      <td>HL4379</td>\n",
       "      <td>Televisão</td>\n",
       "      <td>5</td>\n",
       "      <td>Bruno</td>\n",
       "      <td>Mota</td>\n",
       "      <td>4/30/2018</td>\n",
       "      <td>Curitiba</td>\n",
       "      <td>2500</td>\n",
       "      <td>NaN</td>\n",
       "    </tr>\n",
       "    <tr>\n",
       "      <th>716</th>\n",
       "      <td>9918</td>\n",
       "      <td>HL1148</td>\n",
       "      <td>Câmera</td>\n",
       "      <td>2</td>\n",
       "      <td>Lucas</td>\n",
       "      <td>Reis</td>\n",
       "      <td>12/27/2018</td>\n",
       "      <td>Curitiba</td>\n",
       "      <td>2100</td>\n",
       "      <td>NaN</td>\n",
       "    </tr>\n",
       "    <tr>\n",
       "      <th>717</th>\n",
       "      <td>9944</td>\n",
       "      <td>HL1918</td>\n",
       "      <td>iPhone</td>\n",
       "      <td>5</td>\n",
       "      <td>Raphael</td>\n",
       "      <td>Kurtz</td>\n",
       "      <td>7/16/2018</td>\n",
       "      <td>Curitiba</td>\n",
       "      <td>5300</td>\n",
       "      <td>NaN</td>\n",
       "    </tr>\n",
       "    <tr>\n",
       "      <th>718</th>\n",
       "      <td>9998</td>\n",
       "      <td>HL7348</td>\n",
       "      <td>SmartWatch</td>\n",
       "      <td>1</td>\n",
       "      <td>Vinícius</td>\n",
       "      <td>Antunes</td>\n",
       "      <td>12/10/2018</td>\n",
       "      <td>Curitiba</td>\n",
       "      <td>1400</td>\n",
       "      <td>NaN</td>\n",
       "    </tr>\n",
       "  </tbody>\n",
       "</table>\n",
       "<p>719 rows × 10 columns</p>\n",
       "</div>"
      ],
      "text/plain": [
       "     Unnamed: 0     SKU     Produto  Quantidade Vendida Primeiro Nome  \\\n",
       "0             0  HL4379   Televisão                   5       Gabriel   \n",
       "1             7  HL2714      Tablet                   2         Thays   \n",
       "2            22  HL1918      iPhone                   3         Lucas   \n",
       "3            28  HL1918      iPhone                   3       Gabriel   \n",
       "4            59  HL4379   Televisão                   3         Pedro   \n",
       "..          ...     ...         ...                 ...           ...   \n",
       "714        9859  HL2714      Tablet                   1         Júlio   \n",
       "715        9876  HL4379   Televisão                   5         Bruno   \n",
       "716        9918  HL1148      Câmera                   2         Lucas   \n",
       "717        9944  HL1918      iPhone                   5       Raphael   \n",
       "718        9998  HL7348  SmartWatch                   1      Vinícius   \n",
       "\n",
       "     Sobrenome        Data      Loja  Preco Unitario  Unnamed: 8  \n",
       "0        Thoni   6/30/2018  Curitiba            2500         NaN  \n",
       "1       Castro    3/7/2018  Curitiba            1600         NaN  \n",
       "2    Rodrigues   10/8/2018  Curitiba            5300         NaN  \n",
       "3        Silva   8/21/2018  Curitiba            5300         NaN  \n",
       "4    Conceição   5/16/2018  Curitiba            2500         NaN  \n",
       "..         ...         ...       ...             ...         ...  \n",
       "714      Fraga  12/25/2018  Curitiba            1600         NaN  \n",
       "715       Mota   4/30/2018  Curitiba            2500         NaN  \n",
       "716       Reis  12/27/2018  Curitiba            2100         NaN  \n",
       "717      Kurtz   7/16/2018  Curitiba            5300         NaN  \n",
       "718    Antunes  12/10/2018  Curitiba            1400         NaN  \n",
       "\n",
       "[719 rows x 10 columns]"
      ]
     },
     "metadata": {},
     "output_type": "display_data"
    },
    {
     "name": "stdout",
     "output_type": "stream",
     "text": [
      "Vendas - Fortaleza.csv\n"
     ]
    },
    {
     "name": "stderr",
     "output_type": "stream",
     "text": [
      "C:\\Users\\pedro\\AppData\\Local\\Temp\\ipykernel_60672\\3740801980.py:9: FutureWarning: The frame.append method is deprecated and will be removed from pandas in a future version. Use pandas.concat instead.\n",
      "  tabela_total = tabela_total.append(tabela)\n"
     ]
    },
    {
     "data": {
      "text/html": [
       "<div>\n",
       "<style scoped>\n",
       "    .dataframe tbody tr th:only-of-type {\n",
       "        vertical-align: middle;\n",
       "    }\n",
       "\n",
       "    .dataframe tbody tr th {\n",
       "        vertical-align: top;\n",
       "    }\n",
       "\n",
       "    .dataframe thead th {\n",
       "        text-align: right;\n",
       "    }\n",
       "</style>\n",
       "<table border=\"1\" class=\"dataframe\">\n",
       "  <thead>\n",
       "    <tr style=\"text-align: right;\">\n",
       "      <th></th>\n",
       "      <th>Unnamed: 0</th>\n",
       "      <th>SKU</th>\n",
       "      <th>Produto</th>\n",
       "      <th>Quantidade Vendida</th>\n",
       "      <th>Primeiro Nome</th>\n",
       "      <th>Sobrenome</th>\n",
       "      <th>Data</th>\n",
       "      <th>Loja</th>\n",
       "      <th>Preco Unitario</th>\n",
       "      <th>Unnamed: 8</th>\n",
       "    </tr>\n",
       "  </thead>\n",
       "  <tbody>\n",
       "    <tr>\n",
       "      <th>0</th>\n",
       "      <td>2</td>\n",
       "      <td>HL1148</td>\n",
       "      <td>Câmera</td>\n",
       "      <td>2</td>\n",
       "      <td>Camila</td>\n",
       "      <td>Sobral</td>\n",
       "      <td>10/21/2018</td>\n",
       "      <td>Fortaleza</td>\n",
       "      <td>2100</td>\n",
       "      <td>NaN</td>\n",
       "    </tr>\n",
       "    <tr>\n",
       "      <th>1</th>\n",
       "      <td>3</td>\n",
       "      <td>HL1918</td>\n",
       "      <td>iPhone</td>\n",
       "      <td>3</td>\n",
       "      <td>Clara</td>\n",
       "      <td>Bruno</td>\n",
       "      <td>7/8/2018</td>\n",
       "      <td>Fortaleza</td>\n",
       "      <td>5300</td>\n",
       "      <td>NaN</td>\n",
       "    </tr>\n",
       "    <tr>\n",
       "      <th>2</th>\n",
       "      <td>4</td>\n",
       "      <td>HL9962</td>\n",
       "      <td>Android</td>\n",
       "      <td>4</td>\n",
       "      <td>Eduardo</td>\n",
       "      <td>Pacheco</td>\n",
       "      <td>12/19/2018</td>\n",
       "      <td>Fortaleza</td>\n",
       "      <td>3400</td>\n",
       "      <td>NaN</td>\n",
       "    </tr>\n",
       "    <tr>\n",
       "      <th>3</th>\n",
       "      <td>11</td>\n",
       "      <td>HL1918</td>\n",
       "      <td>iPhone</td>\n",
       "      <td>2</td>\n",
       "      <td>Rafael</td>\n",
       "      <td>Rocha</td>\n",
       "      <td>12/22/2018</td>\n",
       "      <td>Fortaleza</td>\n",
       "      <td>5300</td>\n",
       "      <td>NaN</td>\n",
       "    </tr>\n",
       "    <tr>\n",
       "      <th>4</th>\n",
       "      <td>15</td>\n",
       "      <td>HL2714</td>\n",
       "      <td>Tablet</td>\n",
       "      <td>2</td>\n",
       "      <td>Caio</td>\n",
       "      <td>Ferreira</td>\n",
       "      <td>7/26/2018</td>\n",
       "      <td>Fortaleza</td>\n",
       "      <td>1600</td>\n",
       "      <td>NaN</td>\n",
       "    </tr>\n",
       "    <tr>\n",
       "      <th>...</th>\n",
       "      <td>...</td>\n",
       "      <td>...</td>\n",
       "      <td>...</td>\n",
       "      <td>...</td>\n",
       "      <td>...</td>\n",
       "      <td>...</td>\n",
       "      <td>...</td>\n",
       "      <td>...</td>\n",
       "      <td>...</td>\n",
       "      <td>...</td>\n",
       "    </tr>\n",
       "    <tr>\n",
       "      <th>1442</th>\n",
       "      <td>9959</td>\n",
       "      <td>HL1918</td>\n",
       "      <td>iPhone</td>\n",
       "      <td>4</td>\n",
       "      <td>Rafael</td>\n",
       "      <td>Carneiro</td>\n",
       "      <td>6/19/2018</td>\n",
       "      <td>Fortaleza</td>\n",
       "      <td>5300</td>\n",
       "      <td>NaN</td>\n",
       "    </tr>\n",
       "    <tr>\n",
       "      <th>1443</th>\n",
       "      <td>9974</td>\n",
       "      <td>HL1148</td>\n",
       "      <td>Câmera</td>\n",
       "      <td>2</td>\n",
       "      <td>Thales</td>\n",
       "      <td>Gouvêa</td>\n",
       "      <td>2/20/2018</td>\n",
       "      <td>Fortaleza</td>\n",
       "      <td>2100</td>\n",
       "      <td>NaN</td>\n",
       "    </tr>\n",
       "    <tr>\n",
       "      <th>1444</th>\n",
       "      <td>9979</td>\n",
       "      <td>HL1918</td>\n",
       "      <td>iPhone</td>\n",
       "      <td>5</td>\n",
       "      <td>Brenno</td>\n",
       "      <td>Santos</td>\n",
       "      <td>10/18/2018</td>\n",
       "      <td>Fortaleza</td>\n",
       "      <td>5300</td>\n",
       "      <td>NaN</td>\n",
       "    </tr>\n",
       "    <tr>\n",
       "      <th>1445</th>\n",
       "      <td>9994</td>\n",
       "      <td>HL4379</td>\n",
       "      <td>Televisão</td>\n",
       "      <td>2</td>\n",
       "      <td>Caio</td>\n",
       "      <td>Ferreira</td>\n",
       "      <td>5/18/2018</td>\n",
       "      <td>Fortaleza</td>\n",
       "      <td>2500</td>\n",
       "      <td>NaN</td>\n",
       "    </tr>\n",
       "    <tr>\n",
       "      <th>1446</th>\n",
       "      <td>9995</td>\n",
       "      <td>HL1148</td>\n",
       "      <td>Câmera</td>\n",
       "      <td>5</td>\n",
       "      <td>Kim</td>\n",
       "      <td>Ferreira</td>\n",
       "      <td>3/6/2018</td>\n",
       "      <td>Fortaleza</td>\n",
       "      <td>2100</td>\n",
       "      <td>NaN</td>\n",
       "    </tr>\n",
       "  </tbody>\n",
       "</table>\n",
       "<p>1447 rows × 10 columns</p>\n",
       "</div>"
      ],
      "text/plain": [
       "      Unnamed: 0     SKU    Produto  Quantidade Vendida Primeiro Nome  \\\n",
       "0              2  HL1148     Câmera                   2        Camila   \n",
       "1              3  HL1918     iPhone                   3         Clara   \n",
       "2              4  HL9962    Android                   4       Eduardo   \n",
       "3             11  HL1918     iPhone                   2        Rafael   \n",
       "4             15  HL2714     Tablet                   2          Caio   \n",
       "...          ...     ...        ...                 ...           ...   \n",
       "1442        9959  HL1918     iPhone                   4        Rafael   \n",
       "1443        9974  HL1148     Câmera                   2        Thales   \n",
       "1444        9979  HL1918     iPhone                   5        Brenno   \n",
       "1445        9994  HL4379  Televisão                   2          Caio   \n",
       "1446        9995  HL1148     Câmera                   5           Kim   \n",
       "\n",
       "     Sobrenome        Data       Loja  Preco Unitario  Unnamed: 8  \n",
       "0       Sobral  10/21/2018  Fortaleza            2100         NaN  \n",
       "1        Bruno    7/8/2018  Fortaleza            5300         NaN  \n",
       "2      Pacheco  12/19/2018  Fortaleza            3400         NaN  \n",
       "3        Rocha  12/22/2018  Fortaleza            5300         NaN  \n",
       "4     Ferreira   7/26/2018  Fortaleza            1600         NaN  \n",
       "...        ...         ...        ...             ...         ...  \n",
       "1442  Carneiro   6/19/2018  Fortaleza            5300         NaN  \n",
       "1443    Gouvêa   2/20/2018  Fortaleza            2100         NaN  \n",
       "1444    Santos  10/18/2018  Fortaleza            5300         NaN  \n",
       "1445  Ferreira   5/18/2018  Fortaleza            2500         NaN  \n",
       "1446  Ferreira    3/6/2018  Fortaleza            2100         NaN  \n",
       "\n",
       "[1447 rows x 10 columns]"
      ]
     },
     "metadata": {},
     "output_type": "display_data"
    },
    {
     "name": "stdout",
     "output_type": "stream",
     "text": [
      "Vendas - Goiás.csv\n"
     ]
    },
    {
     "name": "stderr",
     "output_type": "stream",
     "text": [
      "C:\\Users\\pedro\\AppData\\Local\\Temp\\ipykernel_60672\\3740801980.py:9: FutureWarning: The frame.append method is deprecated and will be removed from pandas in a future version. Use pandas.concat instead.\n",
      "  tabela_total = tabela_total.append(tabela)\n"
     ]
    },
    {
     "data": {
      "text/html": [
       "<div>\n",
       "<style scoped>\n",
       "    .dataframe tbody tr th:only-of-type {\n",
       "        vertical-align: middle;\n",
       "    }\n",
       "\n",
       "    .dataframe tbody tr th {\n",
       "        vertical-align: top;\n",
       "    }\n",
       "\n",
       "    .dataframe thead th {\n",
       "        text-align: right;\n",
       "    }\n",
       "</style>\n",
       "<table border=\"1\" class=\"dataframe\">\n",
       "  <thead>\n",
       "    <tr style=\"text-align: right;\">\n",
       "      <th></th>\n",
       "      <th>Unnamed: 0</th>\n",
       "      <th>SKU</th>\n",
       "      <th>Produto</th>\n",
       "      <th>Quantidade Vendida</th>\n",
       "      <th>Primeiro Nome</th>\n",
       "      <th>Sobrenome</th>\n",
       "      <th>Data</th>\n",
       "      <th>Loja</th>\n",
       "      <th>Preco Unitario</th>\n",
       "      <th>Unnamed: 8</th>\n",
       "    </tr>\n",
       "  </thead>\n",
       "  <tbody>\n",
       "    <tr>\n",
       "      <th>0</th>\n",
       "      <td>13</td>\n",
       "      <td>HL4379</td>\n",
       "      <td>Televisão</td>\n",
       "      <td>1</td>\n",
       "      <td>Daniel</td>\n",
       "      <td>Monteiro</td>\n",
       "      <td>5/23/2018</td>\n",
       "      <td>Goiás</td>\n",
       "      <td>2500</td>\n",
       "      <td>NaN</td>\n",
       "    </tr>\n",
       "    <tr>\n",
       "      <th>1</th>\n",
       "      <td>19</td>\n",
       "      <td>HL9962</td>\n",
       "      <td>Android</td>\n",
       "      <td>4</td>\n",
       "      <td>Elaine</td>\n",
       "      <td>Santos</td>\n",
       "      <td>7/5/2018</td>\n",
       "      <td>Goiás</td>\n",
       "      <td>3400</td>\n",
       "      <td>NaN</td>\n",
       "    </tr>\n",
       "    <tr>\n",
       "      <th>2</th>\n",
       "      <td>45</td>\n",
       "      <td>HL1918</td>\n",
       "      <td>iPhone</td>\n",
       "      <td>5</td>\n",
       "      <td>Lenon</td>\n",
       "      <td>Fernandes</td>\n",
       "      <td>3/31/2018</td>\n",
       "      <td>Goiás</td>\n",
       "      <td>5300</td>\n",
       "      <td>NaN</td>\n",
       "    </tr>\n",
       "    <tr>\n",
       "      <th>3</th>\n",
       "      <td>50</td>\n",
       "      <td>HL7348</td>\n",
       "      <td>SmartWatch</td>\n",
       "      <td>1</td>\n",
       "      <td>Vivianne</td>\n",
       "      <td>Rodrigues</td>\n",
       "      <td>8/11/2018</td>\n",
       "      <td>Goiás</td>\n",
       "      <td>1400</td>\n",
       "      <td>NaN</td>\n",
       "    </tr>\n",
       "    <tr>\n",
       "      <th>4</th>\n",
       "      <td>97</td>\n",
       "      <td>HL7348</td>\n",
       "      <td>SmartWatch</td>\n",
       "      <td>2</td>\n",
       "      <td>Pedro</td>\n",
       "      <td>Rodrigues</td>\n",
       "      <td>7/26/2018</td>\n",
       "      <td>Goiás</td>\n",
       "      <td>1400</td>\n",
       "      <td>NaN</td>\n",
       "    </tr>\n",
       "    <tr>\n",
       "      <th>...</th>\n",
       "      <td>...</td>\n",
       "      <td>...</td>\n",
       "      <td>...</td>\n",
       "      <td>...</td>\n",
       "      <td>...</td>\n",
       "      <td>...</td>\n",
       "      <td>...</td>\n",
       "      <td>...</td>\n",
       "      <td>...</td>\n",
       "      <td>...</td>\n",
       "    </tr>\n",
       "    <tr>\n",
       "      <th>727</th>\n",
       "      <td>9925</td>\n",
       "      <td>HL1918</td>\n",
       "      <td>iPhone</td>\n",
       "      <td>2</td>\n",
       "      <td>Victor</td>\n",
       "      <td>Gomes</td>\n",
       "      <td>1/9/2018</td>\n",
       "      <td>Goiás</td>\n",
       "      <td>5300</td>\n",
       "      <td>NaN</td>\n",
       "    </tr>\n",
       "    <tr>\n",
       "      <th>728</th>\n",
       "      <td>9937</td>\n",
       "      <td>HL8851</td>\n",
       "      <td>Notebook</td>\n",
       "      <td>2</td>\n",
       "      <td>Gabriel</td>\n",
       "      <td>Ribeiro</td>\n",
       "      <td>11/28/2018</td>\n",
       "      <td>Goiás</td>\n",
       "      <td>3500</td>\n",
       "      <td>NaN</td>\n",
       "    </tr>\n",
       "    <tr>\n",
       "      <th>729</th>\n",
       "      <td>9943</td>\n",
       "      <td>HL2714</td>\n",
       "      <td>Tablet</td>\n",
       "      <td>2</td>\n",
       "      <td>Giuseppe</td>\n",
       "      <td>Borges</td>\n",
       "      <td>10/5/2018</td>\n",
       "      <td>Goiás</td>\n",
       "      <td>1600</td>\n",
       "      <td>NaN</td>\n",
       "    </tr>\n",
       "    <tr>\n",
       "      <th>730</th>\n",
       "      <td>9968</td>\n",
       "      <td>HL2714</td>\n",
       "      <td>Tablet</td>\n",
       "      <td>2</td>\n",
       "      <td>Caio</td>\n",
       "      <td>Caldas</td>\n",
       "      <td>4/4/2018</td>\n",
       "      <td>Goiás</td>\n",
       "      <td>1600</td>\n",
       "      <td>NaN</td>\n",
       "    </tr>\n",
       "    <tr>\n",
       "      <th>731</th>\n",
       "      <td>9975</td>\n",
       "      <td>HL8851</td>\n",
       "      <td>Notebook</td>\n",
       "      <td>2</td>\n",
       "      <td>Anna</td>\n",
       "      <td>Maia</td>\n",
       "      <td>10/22/2018</td>\n",
       "      <td>Goiás</td>\n",
       "      <td>3500</td>\n",
       "      <td>NaN</td>\n",
       "    </tr>\n",
       "  </tbody>\n",
       "</table>\n",
       "<p>732 rows × 10 columns</p>\n",
       "</div>"
      ],
      "text/plain": [
       "     Unnamed: 0     SKU     Produto  Quantidade Vendida Primeiro Nome  \\\n",
       "0            13  HL4379   Televisão                   1        Daniel   \n",
       "1            19  HL9962     Android                   4        Elaine   \n",
       "2            45  HL1918      iPhone                   5         Lenon   \n",
       "3            50  HL7348  SmartWatch                   1      Vivianne   \n",
       "4            97  HL7348  SmartWatch                   2         Pedro   \n",
       "..          ...     ...         ...                 ...           ...   \n",
       "727        9925  HL1918      iPhone                   2        Victor   \n",
       "728        9937  HL8851    Notebook                   2       Gabriel   \n",
       "729        9943  HL2714      Tablet                   2      Giuseppe   \n",
       "730        9968  HL2714      Tablet                   2          Caio   \n",
       "731        9975  HL8851    Notebook                   2          Anna   \n",
       "\n",
       "     Sobrenome        Data   Loja  Preco Unitario  Unnamed: 8  \n",
       "0     Monteiro   5/23/2018  Goiás            2500         NaN  \n",
       "1       Santos    7/5/2018  Goiás            3400         NaN  \n",
       "2    Fernandes   3/31/2018  Goiás            5300         NaN  \n",
       "3    Rodrigues   8/11/2018  Goiás            1400         NaN  \n",
       "4    Rodrigues   7/26/2018  Goiás            1400         NaN  \n",
       "..         ...         ...    ...             ...         ...  \n",
       "727      Gomes    1/9/2018  Goiás            5300         NaN  \n",
       "728    Ribeiro  11/28/2018  Goiás            3500         NaN  \n",
       "729     Borges   10/5/2018  Goiás            1600         NaN  \n",
       "730     Caldas    4/4/2018  Goiás            1600         NaN  \n",
       "731       Maia  10/22/2018  Goiás            3500         NaN  \n",
       "\n",
       "[732 rows x 10 columns]"
      ]
     },
     "metadata": {},
     "output_type": "display_data"
    },
    {
     "name": "stdout",
     "output_type": "stream",
     "text": [
      "Vendas - Porto Alegre.csv\n"
     ]
    },
    {
     "name": "stderr",
     "output_type": "stream",
     "text": [
      "C:\\Users\\pedro\\AppData\\Local\\Temp\\ipykernel_60672\\3740801980.py:9: FutureWarning: The frame.append method is deprecated and will be removed from pandas in a future version. Use pandas.concat instead.\n",
      "  tabela_total = tabela_total.append(tabela)\n"
     ]
    },
    {
     "data": {
      "text/html": [
       "<div>\n",
       "<style scoped>\n",
       "    .dataframe tbody tr th:only-of-type {\n",
       "        vertical-align: middle;\n",
       "    }\n",
       "\n",
       "    .dataframe tbody tr th {\n",
       "        vertical-align: top;\n",
       "    }\n",
       "\n",
       "    .dataframe thead th {\n",
       "        text-align: right;\n",
       "    }\n",
       "</style>\n",
       "<table border=\"1\" class=\"dataframe\">\n",
       "  <thead>\n",
       "    <tr style=\"text-align: right;\">\n",
       "      <th></th>\n",
       "      <th>Unnamed: 0</th>\n",
       "      <th>SKU</th>\n",
       "      <th>Produto</th>\n",
       "      <th>Quantidade Vendida</th>\n",
       "      <th>Primeiro Nome</th>\n",
       "      <th>Sobrenome</th>\n",
       "      <th>Data</th>\n",
       "      <th>Loja</th>\n",
       "      <th>Preco Unitario</th>\n",
       "      <th>Unnamed: 8</th>\n",
       "    </tr>\n",
       "  </thead>\n",
       "  <tbody>\n",
       "    <tr>\n",
       "      <th>0</th>\n",
       "      <td>14</td>\n",
       "      <td>HL4379</td>\n",
       "      <td>Televisão</td>\n",
       "      <td>4</td>\n",
       "      <td>Ylana</td>\n",
       "      <td>Teraoka</td>\n",
       "      <td>6/23/2018</td>\n",
       "      <td>Porto Alegre</td>\n",
       "      <td>2500</td>\n",
       "      <td>NaN</td>\n",
       "    </tr>\n",
       "    <tr>\n",
       "      <th>1</th>\n",
       "      <td>34</td>\n",
       "      <td>HL1148</td>\n",
       "      <td>Câmera</td>\n",
       "      <td>1</td>\n",
       "      <td>Rubens</td>\n",
       "      <td>Netto</td>\n",
       "      <td>7/11/2018</td>\n",
       "      <td>Porto Alegre</td>\n",
       "      <td>2100</td>\n",
       "      <td>NaN</td>\n",
       "    </tr>\n",
       "    <tr>\n",
       "      <th>2</th>\n",
       "      <td>43</td>\n",
       "      <td>HL1148</td>\n",
       "      <td>Câmera</td>\n",
       "      <td>5</td>\n",
       "      <td>Paloma</td>\n",
       "      <td>Sperandei</td>\n",
       "      <td>9/15/2018</td>\n",
       "      <td>Porto Alegre</td>\n",
       "      <td>2100</td>\n",
       "      <td>NaN</td>\n",
       "    </tr>\n",
       "    <tr>\n",
       "      <th>3</th>\n",
       "      <td>49</td>\n",
       "      <td>HL8851</td>\n",
       "      <td>Notebook</td>\n",
       "      <td>5</td>\n",
       "      <td>Breno</td>\n",
       "      <td>Farias</td>\n",
       "      <td>6/24/2018</td>\n",
       "      <td>Porto Alegre</td>\n",
       "      <td>3500</td>\n",
       "      <td>NaN</td>\n",
       "    </tr>\n",
       "    <tr>\n",
       "      <th>4</th>\n",
       "      <td>52</td>\n",
       "      <td>HL4379</td>\n",
       "      <td>Televisão</td>\n",
       "      <td>2</td>\n",
       "      <td>Lorena</td>\n",
       "      <td>Kohn</td>\n",
       "      <td>7/31/2018</td>\n",
       "      <td>Porto Alegre</td>\n",
       "      <td>2500</td>\n",
       "      <td>NaN</td>\n",
       "    </tr>\n",
       "    <tr>\n",
       "      <th>...</th>\n",
       "      <td>...</td>\n",
       "      <td>...</td>\n",
       "      <td>...</td>\n",
       "      <td>...</td>\n",
       "      <td>...</td>\n",
       "      <td>...</td>\n",
       "      <td>...</td>\n",
       "      <td>...</td>\n",
       "      <td>...</td>\n",
       "      <td>...</td>\n",
       "    </tr>\n",
       "    <tr>\n",
       "      <th>699</th>\n",
       "      <td>9947</td>\n",
       "      <td>HL1918</td>\n",
       "      <td>iPhone</td>\n",
       "      <td>2</td>\n",
       "      <td>Gabrielle</td>\n",
       "      <td>Vasconcelos</td>\n",
       "      <td>2/20/2018</td>\n",
       "      <td>Porto Alegre</td>\n",
       "      <td>5300</td>\n",
       "      <td>NaN</td>\n",
       "    </tr>\n",
       "    <tr>\n",
       "      <th>700</th>\n",
       "      <td>9980</td>\n",
       "      <td>HL1918</td>\n",
       "      <td>iPhone</td>\n",
       "      <td>5</td>\n",
       "      <td>João</td>\n",
       "      <td>Rodrigues</td>\n",
       "      <td>1/21/2018</td>\n",
       "      <td>Porto Alegre</td>\n",
       "      <td>5300</td>\n",
       "      <td>NaN</td>\n",
       "    </tr>\n",
       "    <tr>\n",
       "      <th>701</th>\n",
       "      <td>9983</td>\n",
       "      <td>HL2714</td>\n",
       "      <td>Tablet</td>\n",
       "      <td>5</td>\n",
       "      <td>Bianca</td>\n",
       "      <td>Tatsch</td>\n",
       "      <td>2/12/2018</td>\n",
       "      <td>Porto Alegre</td>\n",
       "      <td>1600</td>\n",
       "      <td>NaN</td>\n",
       "    </tr>\n",
       "    <tr>\n",
       "      <th>702</th>\n",
       "      <td>9993</td>\n",
       "      <td>HL1148</td>\n",
       "      <td>Câmera</td>\n",
       "      <td>4</td>\n",
       "      <td>Victor</td>\n",
       "      <td>Lira</td>\n",
       "      <td>7/26/2018</td>\n",
       "      <td>Porto Alegre</td>\n",
       "      <td>2100</td>\n",
       "      <td>NaN</td>\n",
       "    </tr>\n",
       "    <tr>\n",
       "      <th>703</th>\n",
       "      <td>9997</td>\n",
       "      <td>HL1918</td>\n",
       "      <td>iPhone</td>\n",
       "      <td>4</td>\n",
       "      <td>Norman</td>\n",
       "      <td>Jimbo</td>\n",
       "      <td>6/13/2018</td>\n",
       "      <td>Porto Alegre</td>\n",
       "      <td>5300</td>\n",
       "      <td>NaN</td>\n",
       "    </tr>\n",
       "  </tbody>\n",
       "</table>\n",
       "<p>704 rows × 10 columns</p>\n",
       "</div>"
      ],
      "text/plain": [
       "     Unnamed: 0     SKU    Produto  Quantidade Vendida Primeiro Nome  \\\n",
       "0            14  HL4379  Televisão                   4         Ylana   \n",
       "1            34  HL1148     Câmera                   1        Rubens   \n",
       "2            43  HL1148     Câmera                   5        Paloma   \n",
       "3            49  HL8851   Notebook                   5         Breno   \n",
       "4            52  HL4379  Televisão                   2        Lorena   \n",
       "..          ...     ...        ...                 ...           ...   \n",
       "699        9947  HL1918     iPhone                   2     Gabrielle   \n",
       "700        9980  HL1918     iPhone                   5          João   \n",
       "701        9983  HL2714     Tablet                   5        Bianca   \n",
       "702        9993  HL1148     Câmera                   4        Victor   \n",
       "703        9997  HL1918     iPhone                   4        Norman   \n",
       "\n",
       "       Sobrenome       Data          Loja  Preco Unitario  Unnamed: 8  \n",
       "0        Teraoka  6/23/2018  Porto Alegre            2500         NaN  \n",
       "1          Netto  7/11/2018  Porto Alegre            2100         NaN  \n",
       "2      Sperandei  9/15/2018  Porto Alegre            2100         NaN  \n",
       "3         Farias  6/24/2018  Porto Alegre            3500         NaN  \n",
       "4           Kohn  7/31/2018  Porto Alegre            2500         NaN  \n",
       "..           ...        ...           ...             ...         ...  \n",
       "699  Vasconcelos  2/20/2018  Porto Alegre            5300         NaN  \n",
       "700    Rodrigues  1/21/2018  Porto Alegre            5300         NaN  \n",
       "701       Tatsch  2/12/2018  Porto Alegre            1600         NaN  \n",
       "702         Lira  7/26/2018  Porto Alegre            2100         NaN  \n",
       "703        Jimbo  6/13/2018  Porto Alegre            5300         NaN  \n",
       "\n",
       "[704 rows x 10 columns]"
      ]
     },
     "metadata": {},
     "output_type": "display_data"
    },
    {
     "name": "stdout",
     "output_type": "stream",
     "text": [
      "Vendas - Recife.csv\n"
     ]
    },
    {
     "name": "stderr",
     "output_type": "stream",
     "text": [
      "C:\\Users\\pedro\\AppData\\Local\\Temp\\ipykernel_60672\\3740801980.py:9: FutureWarning: The frame.append method is deprecated and will be removed from pandas in a future version. Use pandas.concat instead.\n",
      "  tabela_total = tabela_total.append(tabela)\n"
     ]
    },
    {
     "data": {
      "text/html": [
       "<div>\n",
       "<style scoped>\n",
       "    .dataframe tbody tr th:only-of-type {\n",
       "        vertical-align: middle;\n",
       "    }\n",
       "\n",
       "    .dataframe tbody tr th {\n",
       "        vertical-align: top;\n",
       "    }\n",
       "\n",
       "    .dataframe thead th {\n",
       "        text-align: right;\n",
       "    }\n",
       "</style>\n",
       "<table border=\"1\" class=\"dataframe\">\n",
       "  <thead>\n",
       "    <tr style=\"text-align: right;\">\n",
       "      <th></th>\n",
       "      <th>Unnamed: 0</th>\n",
       "      <th>SKU</th>\n",
       "      <th>Produto</th>\n",
       "      <th>Quantidade Vendida</th>\n",
       "      <th>Primeiro Nome</th>\n",
       "      <th>Sobrenome</th>\n",
       "      <th>Data</th>\n",
       "      <th>Loja</th>\n",
       "      <th>Preco Unitario</th>\n",
       "      <th>Unnamed: 8</th>\n",
       "    </tr>\n",
       "  </thead>\n",
       "  <tbody>\n",
       "    <tr>\n",
       "      <th>0</th>\n",
       "      <td>1</td>\n",
       "      <td>HL4379</td>\n",
       "      <td>Televisão</td>\n",
       "      <td>3</td>\n",
       "      <td>Renan</td>\n",
       "      <td>Nascimento</td>\n",
       "      <td>9/14/2018</td>\n",
       "      <td>Recife</td>\n",
       "      <td>2500</td>\n",
       "      <td>NaN</td>\n",
       "    </tr>\n",
       "    <tr>\n",
       "      <th>1</th>\n",
       "      <td>24</td>\n",
       "      <td>HL2714</td>\n",
       "      <td>Tablet</td>\n",
       "      <td>5</td>\n",
       "      <td>Carla</td>\n",
       "      <td>Zakhm</td>\n",
       "      <td>11/13/2018</td>\n",
       "      <td>Recife</td>\n",
       "      <td>1600</td>\n",
       "      <td>NaN</td>\n",
       "    </tr>\n",
       "    <tr>\n",
       "      <th>2</th>\n",
       "      <td>26</td>\n",
       "      <td>HL1918</td>\n",
       "      <td>iPhone</td>\n",
       "      <td>4</td>\n",
       "      <td>Bianca</td>\n",
       "      <td>Tatsch</td>\n",
       "      <td>10/10/2018</td>\n",
       "      <td>Recife</td>\n",
       "      <td>5300</td>\n",
       "      <td>NaN</td>\n",
       "    </tr>\n",
       "    <tr>\n",
       "      <th>3</th>\n",
       "      <td>35</td>\n",
       "      <td>HL1918</td>\n",
       "      <td>iPhone</td>\n",
       "      <td>3</td>\n",
       "      <td>Guido</td>\n",
       "      <td>Monteiro</td>\n",
       "      <td>4/18/2018</td>\n",
       "      <td>Recife</td>\n",
       "      <td>5300</td>\n",
       "      <td>NaN</td>\n",
       "    </tr>\n",
       "    <tr>\n",
       "      <th>4</th>\n",
       "      <td>44</td>\n",
       "      <td>HL4379</td>\n",
       "      <td>Televisão</td>\n",
       "      <td>1</td>\n",
       "      <td>Eduardo</td>\n",
       "      <td>Quindeler</td>\n",
       "      <td>7/20/2018</td>\n",
       "      <td>Recife</td>\n",
       "      <td>2500</td>\n",
       "      <td>NaN</td>\n",
       "    </tr>\n",
       "    <tr>\n",
       "      <th>...</th>\n",
       "      <td>...</td>\n",
       "      <td>...</td>\n",
       "      <td>...</td>\n",
       "      <td>...</td>\n",
       "      <td>...</td>\n",
       "      <td>...</td>\n",
       "      <td>...</td>\n",
       "      <td>...</td>\n",
       "      <td>...</td>\n",
       "      <td>...</td>\n",
       "    </tr>\n",
       "    <tr>\n",
       "      <th>720</th>\n",
       "      <td>9938</td>\n",
       "      <td>HL4379</td>\n",
       "      <td>Televisão</td>\n",
       "      <td>3</td>\n",
       "      <td>Fernanda</td>\n",
       "      <td>Silva</td>\n",
       "      <td>12/18/2018</td>\n",
       "      <td>Recife</td>\n",
       "      <td>2500</td>\n",
       "      <td>NaN</td>\n",
       "    </tr>\n",
       "    <tr>\n",
       "      <th>721</th>\n",
       "      <td>9941</td>\n",
       "      <td>HL2714</td>\n",
       "      <td>Tablet</td>\n",
       "      <td>5</td>\n",
       "      <td>Alvaro</td>\n",
       "      <td>Kranz</td>\n",
       "      <td>11/21/2018</td>\n",
       "      <td>Recife</td>\n",
       "      <td>1600</td>\n",
       "      <td>NaN</td>\n",
       "    </tr>\n",
       "    <tr>\n",
       "      <th>722</th>\n",
       "      <td>9969</td>\n",
       "      <td>HL1918</td>\n",
       "      <td>iPhone</td>\n",
       "      <td>4</td>\n",
       "      <td>Itai</td>\n",
       "      <td>Puntel</td>\n",
       "      <td>11/6/2018</td>\n",
       "      <td>Recife</td>\n",
       "      <td>5300</td>\n",
       "      <td>NaN</td>\n",
       "    </tr>\n",
       "    <tr>\n",
       "      <th>723</th>\n",
       "      <td>9986</td>\n",
       "      <td>HL9962</td>\n",
       "      <td>Android</td>\n",
       "      <td>4</td>\n",
       "      <td>Julia</td>\n",
       "      <td>Leite</td>\n",
       "      <td>4/8/2018</td>\n",
       "      <td>Recife</td>\n",
       "      <td>3400</td>\n",
       "      <td>NaN</td>\n",
       "    </tr>\n",
       "    <tr>\n",
       "      <th>724</th>\n",
       "      <td>9992</td>\n",
       "      <td>HL1918</td>\n",
       "      <td>iPhone</td>\n",
       "      <td>1</td>\n",
       "      <td>Marina</td>\n",
       "      <td>Cormack</td>\n",
       "      <td>12/31/2018</td>\n",
       "      <td>Recife</td>\n",
       "      <td>5300</td>\n",
       "      <td>NaN</td>\n",
       "    </tr>\n",
       "  </tbody>\n",
       "</table>\n",
       "<p>725 rows × 10 columns</p>\n",
       "</div>"
      ],
      "text/plain": [
       "     Unnamed: 0     SKU    Produto  Quantidade Vendida Primeiro Nome  \\\n",
       "0             1  HL4379  Televisão                   3         Renan   \n",
       "1            24  HL2714     Tablet                   5         Carla   \n",
       "2            26  HL1918     iPhone                   4        Bianca   \n",
       "3            35  HL1918     iPhone                   3         Guido   \n",
       "4            44  HL4379  Televisão                   1       Eduardo   \n",
       "..          ...     ...        ...                 ...           ...   \n",
       "720        9938  HL4379  Televisão                   3      Fernanda   \n",
       "721        9941  HL2714     Tablet                   5        Alvaro   \n",
       "722        9969  HL1918     iPhone                   4          Itai   \n",
       "723        9986  HL9962    Android                   4         Julia   \n",
       "724        9992  HL1918     iPhone                   1        Marina   \n",
       "\n",
       "      Sobrenome        Data    Loja  Preco Unitario  Unnamed: 8  \n",
       "0    Nascimento   9/14/2018  Recife            2500         NaN  \n",
       "1         Zakhm  11/13/2018  Recife            1600         NaN  \n",
       "2        Tatsch  10/10/2018  Recife            5300         NaN  \n",
       "3      Monteiro   4/18/2018  Recife            5300         NaN  \n",
       "4     Quindeler   7/20/2018  Recife            2500         NaN  \n",
       "..          ...         ...     ...             ...         ...  \n",
       "720       Silva  12/18/2018  Recife            2500         NaN  \n",
       "721       Kranz  11/21/2018  Recife            1600         NaN  \n",
       "722      Puntel   11/6/2018  Recife            5300         NaN  \n",
       "723       Leite    4/8/2018  Recife            3400         NaN  \n",
       "724     Cormack  12/31/2018  Recife            5300         NaN  \n",
       "\n",
       "[725 rows x 10 columns]"
      ]
     },
     "metadata": {},
     "output_type": "display_data"
    },
    {
     "name": "stdout",
     "output_type": "stream",
     "text": [
      "Vendas - Rio de Janeiro.csv\n"
     ]
    },
    {
     "name": "stderr",
     "output_type": "stream",
     "text": [
      "C:\\Users\\pedro\\AppData\\Local\\Temp\\ipykernel_60672\\3740801980.py:9: FutureWarning: The frame.append method is deprecated and will be removed from pandas in a future version. Use pandas.concat instead.\n",
      "  tabela_total = tabela_total.append(tabela)\n"
     ]
    },
    {
     "data": {
      "text/html": [
       "<div>\n",
       "<style scoped>\n",
       "    .dataframe tbody tr th:only-of-type {\n",
       "        vertical-align: middle;\n",
       "    }\n",
       "\n",
       "    .dataframe tbody tr th {\n",
       "        vertical-align: top;\n",
       "    }\n",
       "\n",
       "    .dataframe thead th {\n",
       "        text-align: right;\n",
       "    }\n",
       "</style>\n",
       "<table border=\"1\" class=\"dataframe\">\n",
       "  <thead>\n",
       "    <tr style=\"text-align: right;\">\n",
       "      <th></th>\n",
       "      <th>Unnamed: 0</th>\n",
       "      <th>SKU</th>\n",
       "      <th>Produto</th>\n",
       "      <th>Quantidade Vendida</th>\n",
       "      <th>Primeiro Nome</th>\n",
       "      <th>Sobrenome</th>\n",
       "      <th>Data</th>\n",
       "      <th>Loja</th>\n",
       "      <th>Preco Unitario</th>\n",
       "      <th>Unnamed: 8</th>\n",
       "    </tr>\n",
       "  </thead>\n",
       "  <tbody>\n",
       "    <tr>\n",
       "      <th>0</th>\n",
       "      <td>8</td>\n",
       "      <td>HL4379</td>\n",
       "      <td>Televisão</td>\n",
       "      <td>4</td>\n",
       "      <td>Jessica</td>\n",
       "      <td>Cordovil</td>\n",
       "      <td>2/11/2018</td>\n",
       "      <td>Rio de Janeiro</td>\n",
       "      <td>2500</td>\n",
       "      <td>NaN</td>\n",
       "    </tr>\n",
       "    <tr>\n",
       "      <th>1</th>\n",
       "      <td>12</td>\n",
       "      <td>HL1918</td>\n",
       "      <td>iPhone</td>\n",
       "      <td>2</td>\n",
       "      <td>Camilla</td>\n",
       "      <td>Guimarães</td>\n",
       "      <td>10/4/2018</td>\n",
       "      <td>Rio de Janeiro</td>\n",
       "      <td>5300</td>\n",
       "      <td>NaN</td>\n",
       "    </tr>\n",
       "    <tr>\n",
       "      <th>2</th>\n",
       "      <td>21</td>\n",
       "      <td>HL4379</td>\n",
       "      <td>Televisão</td>\n",
       "      <td>5</td>\n",
       "      <td>Katharina</td>\n",
       "      <td>Barros</td>\n",
       "      <td>3/26/2018</td>\n",
       "      <td>Rio de Janeiro</td>\n",
       "      <td>2500</td>\n",
       "      <td>NaN</td>\n",
       "    </tr>\n",
       "    <tr>\n",
       "      <th>3</th>\n",
       "      <td>39</td>\n",
       "      <td>HL9962</td>\n",
       "      <td>Android</td>\n",
       "      <td>1</td>\n",
       "      <td>Rodrigo</td>\n",
       "      <td>Silva</td>\n",
       "      <td>1/14/2018</td>\n",
       "      <td>Rio de Janeiro</td>\n",
       "      <td>3400</td>\n",
       "      <td>NaN</td>\n",
       "    </tr>\n",
       "    <tr>\n",
       "      <th>4</th>\n",
       "      <td>41</td>\n",
       "      <td>HL4379</td>\n",
       "      <td>Televisão</td>\n",
       "      <td>3</td>\n",
       "      <td>Júlio</td>\n",
       "      <td>Freire</td>\n",
       "      <td>6/30/2018</td>\n",
       "      <td>Rio de Janeiro</td>\n",
       "      <td>2500</td>\n",
       "      <td>NaN</td>\n",
       "    </tr>\n",
       "    <tr>\n",
       "      <th>...</th>\n",
       "      <td>...</td>\n",
       "      <td>...</td>\n",
       "      <td>...</td>\n",
       "      <td>...</td>\n",
       "      <td>...</td>\n",
       "      <td>...</td>\n",
       "      <td>...</td>\n",
       "      <td>...</td>\n",
       "      <td>...</td>\n",
       "      <td>...</td>\n",
       "    </tr>\n",
       "    <tr>\n",
       "      <th>1462</th>\n",
       "      <td>9971</td>\n",
       "      <td>HL1918</td>\n",
       "      <td>iPhone</td>\n",
       "      <td>4</td>\n",
       "      <td>Isaac</td>\n",
       "      <td>Santos</td>\n",
       "      <td>12/3/2018</td>\n",
       "      <td>Rio de Janeiro</td>\n",
       "      <td>5300</td>\n",
       "      <td>NaN</td>\n",
       "    </tr>\n",
       "    <tr>\n",
       "      <th>1463</th>\n",
       "      <td>9976</td>\n",
       "      <td>HL9962</td>\n",
       "      <td>Android</td>\n",
       "      <td>2</td>\n",
       "      <td>Andreza</td>\n",
       "      <td>Ramos</td>\n",
       "      <td>12/17/2018</td>\n",
       "      <td>Rio de Janeiro</td>\n",
       "      <td>3400</td>\n",
       "      <td>NaN</td>\n",
       "    </tr>\n",
       "    <tr>\n",
       "      <th>1464</th>\n",
       "      <td>9982</td>\n",
       "      <td>HL4379</td>\n",
       "      <td>Televisão</td>\n",
       "      <td>3</td>\n",
       "      <td>Leticia</td>\n",
       "      <td>Mesquita</td>\n",
       "      <td>5/22/2018</td>\n",
       "      <td>Rio de Janeiro</td>\n",
       "      <td>2500</td>\n",
       "      <td>NaN</td>\n",
       "    </tr>\n",
       "    <tr>\n",
       "      <th>1465</th>\n",
       "      <td>9987</td>\n",
       "      <td>HL1918</td>\n",
       "      <td>iPhone</td>\n",
       "      <td>5</td>\n",
       "      <td>Manuela</td>\n",
       "      <td>Merege</td>\n",
       "      <td>9/12/2018</td>\n",
       "      <td>Rio de Janeiro</td>\n",
       "      <td>5300</td>\n",
       "      <td>NaN</td>\n",
       "    </tr>\n",
       "    <tr>\n",
       "      <th>1466</th>\n",
       "      <td>9989</td>\n",
       "      <td>HL1918</td>\n",
       "      <td>iPhone</td>\n",
       "      <td>5</td>\n",
       "      <td>Rafael</td>\n",
       "      <td>Carneiro</td>\n",
       "      <td>2/28/2018</td>\n",
       "      <td>Rio de Janeiro</td>\n",
       "      <td>5300</td>\n",
       "      <td>NaN</td>\n",
       "    </tr>\n",
       "  </tbody>\n",
       "</table>\n",
       "<p>1467 rows × 10 columns</p>\n",
       "</div>"
      ],
      "text/plain": [
       "      Unnamed: 0     SKU    Produto  Quantidade Vendida Primeiro Nome  \\\n",
       "0              8  HL4379  Televisão                   4       Jessica   \n",
       "1             12  HL1918     iPhone                   2       Camilla   \n",
       "2             21  HL4379  Televisão                   5     Katharina   \n",
       "3             39  HL9962    Android                   1       Rodrigo   \n",
       "4             41  HL4379  Televisão                   3         Júlio   \n",
       "...          ...     ...        ...                 ...           ...   \n",
       "1462        9971  HL1918     iPhone                   4         Isaac   \n",
       "1463        9976  HL9962    Android                   2       Andreza   \n",
       "1464        9982  HL4379  Televisão                   3       Leticia   \n",
       "1465        9987  HL1918     iPhone                   5       Manuela   \n",
       "1466        9989  HL1918     iPhone                   5        Rafael   \n",
       "\n",
       "      Sobrenome        Data            Loja  Preco Unitario  Unnamed: 8  \n",
       "0      Cordovil   2/11/2018  Rio de Janeiro            2500         NaN  \n",
       "1     Guimarães   10/4/2018  Rio de Janeiro            5300         NaN  \n",
       "2        Barros   3/26/2018  Rio de Janeiro            2500         NaN  \n",
       "3         Silva   1/14/2018  Rio de Janeiro            3400         NaN  \n",
       "4        Freire   6/30/2018  Rio de Janeiro            2500         NaN  \n",
       "...         ...         ...             ...             ...         ...  \n",
       "1462     Santos   12/3/2018  Rio de Janeiro            5300         NaN  \n",
       "1463      Ramos  12/17/2018  Rio de Janeiro            3400         NaN  \n",
       "1464   Mesquita   5/22/2018  Rio de Janeiro            2500         NaN  \n",
       "1465     Merege   9/12/2018  Rio de Janeiro            5300         NaN  \n",
       "1466   Carneiro   2/28/2018  Rio de Janeiro            5300         NaN  \n",
       "\n",
       "[1467 rows x 10 columns]"
      ]
     },
     "metadata": {},
     "output_type": "display_data"
    },
    {
     "name": "stdout",
     "output_type": "stream",
     "text": [
      "Vendas - Salvador.csv\n"
     ]
    },
    {
     "name": "stderr",
     "output_type": "stream",
     "text": [
      "C:\\Users\\pedro\\AppData\\Local\\Temp\\ipykernel_60672\\3740801980.py:9: FutureWarning: The frame.append method is deprecated and will be removed from pandas in a future version. Use pandas.concat instead.\n",
      "  tabela_total = tabela_total.append(tabela)\n"
     ]
    },
    {
     "data": {
      "text/html": [
       "<div>\n",
       "<style scoped>\n",
       "    .dataframe tbody tr th:only-of-type {\n",
       "        vertical-align: middle;\n",
       "    }\n",
       "\n",
       "    .dataframe tbody tr th {\n",
       "        vertical-align: top;\n",
       "    }\n",
       "\n",
       "    .dataframe thead th {\n",
       "        text-align: right;\n",
       "    }\n",
       "</style>\n",
       "<table border=\"1\" class=\"dataframe\">\n",
       "  <thead>\n",
       "    <tr style=\"text-align: right;\">\n",
       "      <th></th>\n",
       "      <th>Unnamed: 0</th>\n",
       "      <th>SKU</th>\n",
       "      <th>Produto</th>\n",
       "      <th>Quantidade Vendida</th>\n",
       "      <th>Primeiro Nome</th>\n",
       "      <th>Sobrenome</th>\n",
       "      <th>Data</th>\n",
       "      <th>Loja</th>\n",
       "      <th>Preco Unitario</th>\n",
       "      <th>Unnamed: 8</th>\n",
       "    </tr>\n",
       "  </thead>\n",
       "  <tbody>\n",
       "    <tr>\n",
       "      <th>0</th>\n",
       "      <td>40</td>\n",
       "      <td>HL1148</td>\n",
       "      <td>Câmera</td>\n",
       "      <td>2</td>\n",
       "      <td>Gabriel</td>\n",
       "      <td>Almeida</td>\n",
       "      <td>11/16/2018</td>\n",
       "      <td>Salvador</td>\n",
       "      <td>2100</td>\n",
       "      <td>NaN</td>\n",
       "    </tr>\n",
       "    <tr>\n",
       "      <th>1</th>\n",
       "      <td>42</td>\n",
       "      <td>HL2714</td>\n",
       "      <td>Tablet</td>\n",
       "      <td>5</td>\n",
       "      <td>Rodrigo</td>\n",
       "      <td>Alves</td>\n",
       "      <td>2/27/2018</td>\n",
       "      <td>Salvador</td>\n",
       "      <td>1600</td>\n",
       "      <td>NaN</td>\n",
       "    </tr>\n",
       "    <tr>\n",
       "      <th>2</th>\n",
       "      <td>51</td>\n",
       "      <td>HL1918</td>\n",
       "      <td>iPhone</td>\n",
       "      <td>4</td>\n",
       "      <td>Ulisses</td>\n",
       "      <td>Arruda</td>\n",
       "      <td>5/5/2018</td>\n",
       "      <td>Salvador</td>\n",
       "      <td>5300</td>\n",
       "      <td>NaN</td>\n",
       "    </tr>\n",
       "    <tr>\n",
       "      <th>3</th>\n",
       "      <td>70</td>\n",
       "      <td>HL9962</td>\n",
       "      <td>Android</td>\n",
       "      <td>3</td>\n",
       "      <td>Raissa</td>\n",
       "      <td>Negrelli</td>\n",
       "      <td>3/10/2018</td>\n",
       "      <td>Salvador</td>\n",
       "      <td>3400</td>\n",
       "      <td>NaN</td>\n",
       "    </tr>\n",
       "    <tr>\n",
       "      <th>4</th>\n",
       "      <td>94</td>\n",
       "      <td>HL1918</td>\n",
       "      <td>iPhone</td>\n",
       "      <td>2</td>\n",
       "      <td>Breno</td>\n",
       "      <td>Caputo</td>\n",
       "      <td>3/30/2018</td>\n",
       "      <td>Salvador</td>\n",
       "      <td>5300</td>\n",
       "      <td>NaN</td>\n",
       "    </tr>\n",
       "    <tr>\n",
       "      <th>...</th>\n",
       "      <td>...</td>\n",
       "      <td>...</td>\n",
       "      <td>...</td>\n",
       "      <td>...</td>\n",
       "      <td>...</td>\n",
       "      <td>...</td>\n",
       "      <td>...</td>\n",
       "      <td>...</td>\n",
       "      <td>...</td>\n",
       "      <td>...</td>\n",
       "    </tr>\n",
       "    <tr>\n",
       "      <th>1325</th>\n",
       "      <td>9965</td>\n",
       "      <td>HL1148</td>\n",
       "      <td>Câmera</td>\n",
       "      <td>4</td>\n",
       "      <td>Samara</td>\n",
       "      <td>Pinto</td>\n",
       "      <td>3/11/2018</td>\n",
       "      <td>Salvador</td>\n",
       "      <td>2100</td>\n",
       "      <td>NaN</td>\n",
       "    </tr>\n",
       "    <tr>\n",
       "      <th>1326</th>\n",
       "      <td>9970</td>\n",
       "      <td>HL9962</td>\n",
       "      <td>Android</td>\n",
       "      <td>1</td>\n",
       "      <td>Fernanda</td>\n",
       "      <td>Junior</td>\n",
       "      <td>9/12/2018</td>\n",
       "      <td>Salvador</td>\n",
       "      <td>3400</td>\n",
       "      <td>NaN</td>\n",
       "    </tr>\n",
       "    <tr>\n",
       "      <th>1327</th>\n",
       "      <td>9972</td>\n",
       "      <td>HL1918</td>\n",
       "      <td>iPhone</td>\n",
       "      <td>4</td>\n",
       "      <td>Helena</td>\n",
       "      <td>Chafin</td>\n",
       "      <td>8/10/2018</td>\n",
       "      <td>Salvador</td>\n",
       "      <td>5300</td>\n",
       "      <td>NaN</td>\n",
       "    </tr>\n",
       "    <tr>\n",
       "      <th>1328</th>\n",
       "      <td>9988</td>\n",
       "      <td>HL1918</td>\n",
       "      <td>iPhone</td>\n",
       "      <td>1</td>\n",
       "      <td>Aline</td>\n",
       "      <td>Morais</td>\n",
       "      <td>5/23/2018</td>\n",
       "      <td>Salvador</td>\n",
       "      <td>5300</td>\n",
       "      <td>NaN</td>\n",
       "    </tr>\n",
       "    <tr>\n",
       "      <th>1329</th>\n",
       "      <td>9990</td>\n",
       "      <td>HL8851</td>\n",
       "      <td>Notebook</td>\n",
       "      <td>2</td>\n",
       "      <td>Raíssa</td>\n",
       "      <td>Oros</td>\n",
       "      <td>5/20/2018</td>\n",
       "      <td>Salvador</td>\n",
       "      <td>3500</td>\n",
       "      <td>NaN</td>\n",
       "    </tr>\n",
       "  </tbody>\n",
       "</table>\n",
       "<p>1330 rows × 10 columns</p>\n",
       "</div>"
      ],
      "text/plain": [
       "      Unnamed: 0     SKU   Produto  Quantidade Vendida Primeiro Nome  \\\n",
       "0             40  HL1148    Câmera                   2       Gabriel   \n",
       "1             42  HL2714    Tablet                   5       Rodrigo   \n",
       "2             51  HL1918    iPhone                   4       Ulisses   \n",
       "3             70  HL9962   Android                   3        Raissa   \n",
       "4             94  HL1918    iPhone                   2         Breno   \n",
       "...          ...     ...       ...                 ...           ...   \n",
       "1325        9965  HL1148    Câmera                   4        Samara   \n",
       "1326        9970  HL9962   Android                   1      Fernanda   \n",
       "1327        9972  HL1918    iPhone                   4        Helena   \n",
       "1328        9988  HL1918    iPhone                   1         Aline   \n",
       "1329        9990  HL8851  Notebook                   2        Raíssa   \n",
       "\n",
       "     Sobrenome        Data      Loja  Preco Unitario  Unnamed: 8  \n",
       "0      Almeida  11/16/2018  Salvador            2100         NaN  \n",
       "1        Alves   2/27/2018  Salvador            1600         NaN  \n",
       "2       Arruda    5/5/2018  Salvador            5300         NaN  \n",
       "3     Negrelli   3/10/2018  Salvador            3400         NaN  \n",
       "4       Caputo   3/30/2018  Salvador            5300         NaN  \n",
       "...        ...         ...       ...             ...         ...  \n",
       "1325     Pinto   3/11/2018  Salvador            2100         NaN  \n",
       "1326    Junior   9/12/2018  Salvador            3400         NaN  \n",
       "1327    Chafin   8/10/2018  Salvador            5300         NaN  \n",
       "1328    Morais   5/23/2018  Salvador            5300         NaN  \n",
       "1329      Oros   5/20/2018  Salvador            3500         NaN  \n",
       "\n",
       "[1330 rows x 10 columns]"
      ]
     },
     "metadata": {},
     "output_type": "display_data"
    },
    {
     "name": "stdout",
     "output_type": "stream",
     "text": [
      "Vendas - São Paulo.csv\n"
     ]
    },
    {
     "name": "stderr",
     "output_type": "stream",
     "text": [
      "C:\\Users\\pedro\\AppData\\Local\\Temp\\ipykernel_60672\\3740801980.py:9: FutureWarning: The frame.append method is deprecated and will be removed from pandas in a future version. Use pandas.concat instead.\n",
      "  tabela_total = tabela_total.append(tabela)\n"
     ]
    },
    {
     "data": {
      "text/html": [
       "<div>\n",
       "<style scoped>\n",
       "    .dataframe tbody tr th:only-of-type {\n",
       "        vertical-align: middle;\n",
       "    }\n",
       "\n",
       "    .dataframe tbody tr th {\n",
       "        vertical-align: top;\n",
       "    }\n",
       "\n",
       "    .dataframe thead th {\n",
       "        text-align: right;\n",
       "    }\n",
       "</style>\n",
       "<table border=\"1\" class=\"dataframe\">\n",
       "  <thead>\n",
       "    <tr style=\"text-align: right;\">\n",
       "      <th></th>\n",
       "      <th>Unnamed: 0</th>\n",
       "      <th>SKU</th>\n",
       "      <th>Produto</th>\n",
       "      <th>Quantidade Vendida</th>\n",
       "      <th>Primeiro Nome</th>\n",
       "      <th>Sobrenome</th>\n",
       "      <th>Data</th>\n",
       "      <th>Loja</th>\n",
       "      <th>Preco Unitario</th>\n",
       "      <th>Unnamed: 8</th>\n",
       "    </tr>\n",
       "  </thead>\n",
       "  <tbody>\n",
       "    <tr>\n",
       "      <th>0</th>\n",
       "      <td>5</td>\n",
       "      <td>HL1918</td>\n",
       "      <td>iPhone</td>\n",
       "      <td>4</td>\n",
       "      <td>Sarah</td>\n",
       "      <td>Souza</td>\n",
       "      <td>2/14/2018</td>\n",
       "      <td>São Paulo</td>\n",
       "      <td>5300</td>\n",
       "      <td>NaN</td>\n",
       "    </tr>\n",
       "    <tr>\n",
       "      <th>1</th>\n",
       "      <td>6</td>\n",
       "      <td>HL7348</td>\n",
       "      <td>SmartWatch</td>\n",
       "      <td>3</td>\n",
       "      <td>Alexandre</td>\n",
       "      <td>Rodriguez</td>\n",
       "      <td>5/20/2018</td>\n",
       "      <td>São Paulo</td>\n",
       "      <td>1400</td>\n",
       "      <td>NaN</td>\n",
       "    </tr>\n",
       "    <tr>\n",
       "      <th>2</th>\n",
       "      <td>9</td>\n",
       "      <td>HL1148</td>\n",
       "      <td>Câmera</td>\n",
       "      <td>3</td>\n",
       "      <td>Camille</td>\n",
       "      <td>Silva</td>\n",
       "      <td>3/26/2018</td>\n",
       "      <td>São Paulo</td>\n",
       "      <td>2100</td>\n",
       "      <td>NaN</td>\n",
       "    </tr>\n",
       "    <tr>\n",
       "      <th>3</th>\n",
       "      <td>10</td>\n",
       "      <td>HL1918</td>\n",
       "      <td>iPhone</td>\n",
       "      <td>3</td>\n",
       "      <td>Alon</td>\n",
       "      <td>Palmeira</td>\n",
       "      <td>11/6/2018</td>\n",
       "      <td>São Paulo</td>\n",
       "      <td>5300</td>\n",
       "      <td>NaN</td>\n",
       "    </tr>\n",
       "    <tr>\n",
       "      <th>4</th>\n",
       "      <td>18</td>\n",
       "      <td>HL8851</td>\n",
       "      <td>Notebook</td>\n",
       "      <td>4</td>\n",
       "      <td>Leandro</td>\n",
       "      <td>Rodrigues</td>\n",
       "      <td>8/6/2018</td>\n",
       "      <td>São Paulo</td>\n",
       "      <td>3500</td>\n",
       "      <td>NaN</td>\n",
       "    </tr>\n",
       "    <tr>\n",
       "      <th>...</th>\n",
       "      <td>...</td>\n",
       "      <td>...</td>\n",
       "      <td>...</td>\n",
       "      <td>...</td>\n",
       "      <td>...</td>\n",
       "      <td>...</td>\n",
       "      <td>...</td>\n",
       "      <td>...</td>\n",
       "      <td>...</td>\n",
       "      <td>...</td>\n",
       "    </tr>\n",
       "    <tr>\n",
       "      <th>2221</th>\n",
       "      <td>9981</td>\n",
       "      <td>HL7348</td>\n",
       "      <td>SmartWatch</td>\n",
       "      <td>4</td>\n",
       "      <td>João</td>\n",
       "      <td>Junior</td>\n",
       "      <td>4/14/2018</td>\n",
       "      <td>São Paulo</td>\n",
       "      <td>1400</td>\n",
       "      <td>NaN</td>\n",
       "    </tr>\n",
       "    <tr>\n",
       "      <th>2222</th>\n",
       "      <td>9984</td>\n",
       "      <td>HL1918</td>\n",
       "      <td>iPhone</td>\n",
       "      <td>4</td>\n",
       "      <td>Itai</td>\n",
       "      <td>Puntel</td>\n",
       "      <td>5/2/2018</td>\n",
       "      <td>São Paulo</td>\n",
       "      <td>5300</td>\n",
       "      <td>NaN</td>\n",
       "    </tr>\n",
       "    <tr>\n",
       "      <th>2223</th>\n",
       "      <td>9985</td>\n",
       "      <td>HL1918</td>\n",
       "      <td>iPhone</td>\n",
       "      <td>1</td>\n",
       "      <td>Guilherme</td>\n",
       "      <td>Vianna</td>\n",
       "      <td>3/18/2018</td>\n",
       "      <td>São Paulo</td>\n",
       "      <td>5300</td>\n",
       "      <td>NaN</td>\n",
       "    </tr>\n",
       "    <tr>\n",
       "      <th>2224</th>\n",
       "      <td>9991</td>\n",
       "      <td>HL7348</td>\n",
       "      <td>SmartWatch</td>\n",
       "      <td>5</td>\n",
       "      <td>Antônio</td>\n",
       "      <td>Soares</td>\n",
       "      <td>11/21/2018</td>\n",
       "      <td>São Paulo</td>\n",
       "      <td>1400</td>\n",
       "      <td>NaN</td>\n",
       "    </tr>\n",
       "    <tr>\n",
       "      <th>2225</th>\n",
       "      <td>9996</td>\n",
       "      <td>HL4379</td>\n",
       "      <td>Televisão</td>\n",
       "      <td>5</td>\n",
       "      <td>Caio</td>\n",
       "      <td>Moraes</td>\n",
       "      <td>1/22/2018</td>\n",
       "      <td>São Paulo</td>\n",
       "      <td>2500</td>\n",
       "      <td>NaN</td>\n",
       "    </tr>\n",
       "  </tbody>\n",
       "</table>\n",
       "<p>2226 rows × 10 columns</p>\n",
       "</div>"
      ],
      "text/plain": [
       "      Unnamed: 0     SKU     Produto  Quantidade Vendida Primeiro Nome  \\\n",
       "0              5  HL1918      iPhone                   4         Sarah   \n",
       "1              6  HL7348  SmartWatch                   3     Alexandre   \n",
       "2              9  HL1148      Câmera                   3       Camille   \n",
       "3             10  HL1918      iPhone                   3          Alon   \n",
       "4             18  HL8851    Notebook                   4       Leandro   \n",
       "...          ...     ...         ...                 ...           ...   \n",
       "2221        9981  HL7348  SmartWatch                   4          João   \n",
       "2222        9984  HL1918      iPhone                   4          Itai   \n",
       "2223        9985  HL1918      iPhone                   1     Guilherme   \n",
       "2224        9991  HL7348  SmartWatch                   5       Antônio   \n",
       "2225        9996  HL4379   Televisão                   5          Caio   \n",
       "\n",
       "      Sobrenome        Data       Loja  Preco Unitario  Unnamed: 8  \n",
       "0         Souza   2/14/2018  São Paulo            5300         NaN  \n",
       "1     Rodriguez   5/20/2018  São Paulo            1400         NaN  \n",
       "2         Silva   3/26/2018  São Paulo            2100         NaN  \n",
       "3      Palmeira   11/6/2018  São Paulo            5300         NaN  \n",
       "4     Rodrigues    8/6/2018  São Paulo            3500         NaN  \n",
       "...         ...         ...        ...             ...         ...  \n",
       "2221     Junior   4/14/2018  São Paulo            1400         NaN  \n",
       "2222     Puntel    5/2/2018  São Paulo            5300         NaN  \n",
       "2223     Vianna   3/18/2018  São Paulo            5300         NaN  \n",
       "2224     Soares  11/21/2018  São Paulo            1400         NaN  \n",
       "2225     Moraes   1/22/2018  São Paulo            2500         NaN  \n",
       "\n",
       "[2226 rows x 10 columns]"
      ]
     },
     "metadata": {},
     "output_type": "display_data"
    },
    {
     "name": "stderr",
     "output_type": "stream",
     "text": [
      "C:\\Users\\pedro\\AppData\\Local\\Temp\\ipykernel_60672\\3740801980.py:9: FutureWarning: The frame.append method is deprecated and will be removed from pandas in a future version. Use pandas.concat instead.\n",
      "  tabela_total = tabela_total.append(tabela)\n"
     ]
    }
   ],
   "source": [
    "#Vamos Importar as bases\n",
    "tabela_total = pd.DataFrame()\n",
    "\n",
    "for file in file_list:\n",
    "    if(\"Vendas\" in file):\n",
    "        tabela = pd.read_csv(f\"Vendas1/Vendas/{file}\")\n",
    "        print(file)\n",
    "        display(tabela)\n",
    "        tabela_total = tabela_total.append(tabela)"
   ]
  },
  {
   "cell_type": "code",
   "execution_count": 8,
   "id": "6c460aad",
   "metadata": {},
   "outputs": [
    {
     "data": {
      "text/html": [
       "<div>\n",
       "<style scoped>\n",
       "    .dataframe tbody tr th:only-of-type {\n",
       "        vertical-align: middle;\n",
       "    }\n",
       "\n",
       "    .dataframe tbody tr th {\n",
       "        vertical-align: top;\n",
       "    }\n",
       "\n",
       "    .dataframe thead th {\n",
       "        text-align: right;\n",
       "    }\n",
       "</style>\n",
       "<table border=\"1\" class=\"dataframe\">\n",
       "  <thead>\n",
       "    <tr style=\"text-align: right;\">\n",
       "      <th></th>\n",
       "      <th>Unnamed: 0</th>\n",
       "      <th>SKU</th>\n",
       "      <th>Produto</th>\n",
       "      <th>Quantidade Vendida</th>\n",
       "      <th>Primeiro Nome</th>\n",
       "      <th>Sobrenome</th>\n",
       "      <th>Data</th>\n",
       "      <th>Loja</th>\n",
       "      <th>Preco Unitario</th>\n",
       "      <th>Unnamed: 8</th>\n",
       "    </tr>\n",
       "  </thead>\n",
       "  <tbody>\n",
       "    <tr>\n",
       "      <th>0</th>\n",
       "      <td>17</td>\n",
       "      <td>HL4379</td>\n",
       "      <td>Televisão</td>\n",
       "      <td>2</td>\n",
       "      <td>Carolina</td>\n",
       "      <td>Alfradique</td>\n",
       "      <td>2/25/2018</td>\n",
       "      <td>Belo Horizonte</td>\n",
       "      <td>2500</td>\n",
       "      <td>NaN</td>\n",
       "    </tr>\n",
       "    <tr>\n",
       "      <th>1</th>\n",
       "      <td>25</td>\n",
       "      <td>HL4379</td>\n",
       "      <td>Televisão</td>\n",
       "      <td>1</td>\n",
       "      <td>Danilo</td>\n",
       "      <td>Rubim</td>\n",
       "      <td>2/20/2018</td>\n",
       "      <td>Belo Horizonte</td>\n",
       "      <td>2500</td>\n",
       "      <td>NaN</td>\n",
       "    </tr>\n",
       "    <tr>\n",
       "      <th>2</th>\n",
       "      <td>27</td>\n",
       "      <td>HL1918</td>\n",
       "      <td>iPhone</td>\n",
       "      <td>5</td>\n",
       "      <td>Bernard</td>\n",
       "      <td>Pedrosa</td>\n",
       "      <td>7/7/2018</td>\n",
       "      <td>Belo Horizonte</td>\n",
       "      <td>5300</td>\n",
       "      <td>NaN</td>\n",
       "    </tr>\n",
       "    <tr>\n",
       "      <th>3</th>\n",
       "      <td>54</td>\n",
       "      <td>HL1918</td>\n",
       "      <td>iPhone</td>\n",
       "      <td>5</td>\n",
       "      <td>Lucas</td>\n",
       "      <td>Lemos</td>\n",
       "      <td>12/26/2018</td>\n",
       "      <td>Belo Horizonte</td>\n",
       "      <td>5300</td>\n",
       "      <td>NaN</td>\n",
       "    </tr>\n",
       "    <tr>\n",
       "      <th>4</th>\n",
       "      <td>67</td>\n",
       "      <td>HL8851</td>\n",
       "      <td>Notebook</td>\n",
       "      <td>5</td>\n",
       "      <td>Bernardo</td>\n",
       "      <td>Botelho</td>\n",
       "      <td>6/8/2018</td>\n",
       "      <td>Belo Horizonte</td>\n",
       "      <td>3500</td>\n",
       "      <td>NaN</td>\n",
       "    </tr>\n",
       "    <tr>\n",
       "      <th>...</th>\n",
       "      <td>...</td>\n",
       "      <td>...</td>\n",
       "      <td>...</td>\n",
       "      <td>...</td>\n",
       "      <td>...</td>\n",
       "      <td>...</td>\n",
       "      <td>...</td>\n",
       "      <td>...</td>\n",
       "      <td>...</td>\n",
       "      <td>...</td>\n",
       "    </tr>\n",
       "    <tr>\n",
       "      <th>2221</th>\n",
       "      <td>9981</td>\n",
       "      <td>HL7348</td>\n",
       "      <td>SmartWatch</td>\n",
       "      <td>4</td>\n",
       "      <td>João</td>\n",
       "      <td>Junior</td>\n",
       "      <td>4/14/2018</td>\n",
       "      <td>São Paulo</td>\n",
       "      <td>1400</td>\n",
       "      <td>NaN</td>\n",
       "    </tr>\n",
       "    <tr>\n",
       "      <th>2222</th>\n",
       "      <td>9984</td>\n",
       "      <td>HL1918</td>\n",
       "      <td>iPhone</td>\n",
       "      <td>4</td>\n",
       "      <td>Itai</td>\n",
       "      <td>Puntel</td>\n",
       "      <td>5/2/2018</td>\n",
       "      <td>São Paulo</td>\n",
       "      <td>5300</td>\n",
       "      <td>NaN</td>\n",
       "    </tr>\n",
       "    <tr>\n",
       "      <th>2223</th>\n",
       "      <td>9985</td>\n",
       "      <td>HL1918</td>\n",
       "      <td>iPhone</td>\n",
       "      <td>1</td>\n",
       "      <td>Guilherme</td>\n",
       "      <td>Vianna</td>\n",
       "      <td>3/18/2018</td>\n",
       "      <td>São Paulo</td>\n",
       "      <td>5300</td>\n",
       "      <td>NaN</td>\n",
       "    </tr>\n",
       "    <tr>\n",
       "      <th>2224</th>\n",
       "      <td>9991</td>\n",
       "      <td>HL7348</td>\n",
       "      <td>SmartWatch</td>\n",
       "      <td>5</td>\n",
       "      <td>Antônio</td>\n",
       "      <td>Soares</td>\n",
       "      <td>11/21/2018</td>\n",
       "      <td>São Paulo</td>\n",
       "      <td>1400</td>\n",
       "      <td>NaN</td>\n",
       "    </tr>\n",
       "    <tr>\n",
       "      <th>2225</th>\n",
       "      <td>9996</td>\n",
       "      <td>HL4379</td>\n",
       "      <td>Televisão</td>\n",
       "      <td>5</td>\n",
       "      <td>Caio</td>\n",
       "      <td>Moraes</td>\n",
       "      <td>1/22/2018</td>\n",
       "      <td>São Paulo</td>\n",
       "      <td>2500</td>\n",
       "      <td>NaN</td>\n",
       "    </tr>\n",
       "  </tbody>\n",
       "</table>\n",
       "<p>9999 rows × 10 columns</p>\n",
       "</div>"
      ],
      "text/plain": [
       "      Unnamed: 0     SKU     Produto  Quantidade Vendida Primeiro Nome  \\\n",
       "0             17  HL4379   Televisão                   2      Carolina   \n",
       "1             25  HL4379   Televisão                   1        Danilo   \n",
       "2             27  HL1918      iPhone                   5       Bernard   \n",
       "3             54  HL1918      iPhone                   5         Lucas   \n",
       "4             67  HL8851    Notebook                   5      Bernardo   \n",
       "...          ...     ...         ...                 ...           ...   \n",
       "2221        9981  HL7348  SmartWatch                   4          João   \n",
       "2222        9984  HL1918      iPhone                   4          Itai   \n",
       "2223        9985  HL1918      iPhone                   1     Guilherme   \n",
       "2224        9991  HL7348  SmartWatch                   5       Antônio   \n",
       "2225        9996  HL4379   Televisão                   5          Caio   \n",
       "\n",
       "       Sobrenome        Data            Loja  Preco Unitario  Unnamed: 8  \n",
       "0     Alfradique   2/25/2018  Belo Horizonte            2500         NaN  \n",
       "1          Rubim   2/20/2018  Belo Horizonte            2500         NaN  \n",
       "2        Pedrosa    7/7/2018  Belo Horizonte            5300         NaN  \n",
       "3          Lemos  12/26/2018  Belo Horizonte            5300         NaN  \n",
       "4        Botelho    6/8/2018  Belo Horizonte            3500         NaN  \n",
       "...          ...         ...             ...             ...         ...  \n",
       "2221      Junior   4/14/2018       São Paulo            1400         NaN  \n",
       "2222      Puntel    5/2/2018       São Paulo            5300         NaN  \n",
       "2223      Vianna   3/18/2018       São Paulo            5300         NaN  \n",
       "2224      Soares  11/21/2018       São Paulo            1400         NaN  \n",
       "2225      Moraes   1/22/2018       São Paulo            2500         NaN  \n",
       "\n",
       "[9999 rows x 10 columns]"
      ]
     },
     "metadata": {},
     "output_type": "display_data"
    }
   ],
   "source": [
    "display(tabela_total)"
   ]
  },
  {
   "cell_type": "code",
   "execution_count": 9,
   "id": "b8c24910",
   "metadata": {},
   "outputs": [
    {
     "data": {
      "text/html": [
       "<div>\n",
       "<style scoped>\n",
       "    .dataframe tbody tr th:only-of-type {\n",
       "        vertical-align: middle;\n",
       "    }\n",
       "\n",
       "    .dataframe tbody tr th {\n",
       "        vertical-align: top;\n",
       "    }\n",
       "\n",
       "    .dataframe thead th {\n",
       "        text-align: right;\n",
       "    }\n",
       "</style>\n",
       "<table border=\"1\" class=\"dataframe\">\n",
       "  <thead>\n",
       "    <tr style=\"text-align: right;\">\n",
       "      <th></th>\n",
       "      <th>Quantidade Vendida</th>\n",
       "    </tr>\n",
       "    <tr>\n",
       "      <th>Produto</th>\n",
       "      <th></th>\n",
       "    </tr>\n",
       "  </thead>\n",
       "  <tbody>\n",
       "    <tr>\n",
       "      <th>iPhone</th>\n",
       "      <td>8974</td>\n",
       "    </tr>\n",
       "    <tr>\n",
       "      <th>Televisão</th>\n",
       "      <td>5931</td>\n",
       "    </tr>\n",
       "    <tr>\n",
       "      <th>Notebook</th>\n",
       "      <td>3249</td>\n",
       "    </tr>\n",
       "    <tr>\n",
       "      <th>Android</th>\n",
       "      <td>3183</td>\n",
       "    </tr>\n",
       "    <tr>\n",
       "      <th>SmartWatch</th>\n",
       "      <td>2980</td>\n",
       "    </tr>\n",
       "    <tr>\n",
       "      <th>Tablet</th>\n",
       "      <td>2921</td>\n",
       "    </tr>\n",
       "    <tr>\n",
       "      <th>Câmera</th>\n",
       "      <td>2805</td>\n",
       "    </tr>\n",
       "  </tbody>\n",
       "</table>\n",
       "</div>"
      ],
      "text/plain": [
       "            Quantidade Vendida\n",
       "Produto                       \n",
       "iPhone                    8974\n",
       "Televisão                 5931\n",
       "Notebook                  3249\n",
       "Android                   3183\n",
       "SmartWatch                2980\n",
       "Tablet                    2921\n",
       "Câmera                    2805"
      ]
     },
     "metadata": {},
     "output_type": "display_data"
    }
   ],
   "source": [
    "#Vamos calcular os indicadores e fazer as representações graficas\n",
    "#Primeiro vamos calcular o produto mais vendido em quantidade\n",
    "\n",
    "tabela_qtd = tabela_total[[\"Produto\",\"Quantidade Vendida\"]].groupby(\"Produto\").sum()\n",
    "display(tabela_qtd.sort_values(by=\"Quantidade Vendida\",ascending=0))"
   ]
  },
  {
   "cell_type": "code",
   "execution_count": 10,
   "id": "9ef64731",
   "metadata": {},
   "outputs": [
    {
     "data": {
      "text/html": [
       "<div>\n",
       "<style scoped>\n",
       "    .dataframe tbody tr th:only-of-type {\n",
       "        vertical-align: middle;\n",
       "    }\n",
       "\n",
       "    .dataframe tbody tr th {\n",
       "        vertical-align: top;\n",
       "    }\n",
       "\n",
       "    .dataframe thead th {\n",
       "        text-align: right;\n",
       "    }\n",
       "</style>\n",
       "<table border=\"1\" class=\"dataframe\">\n",
       "  <thead>\n",
       "    <tr style=\"text-align: right;\">\n",
       "      <th></th>\n",
       "      <th>Faturamento</th>\n",
       "    </tr>\n",
       "    <tr>\n",
       "      <th>Produto</th>\n",
       "      <th></th>\n",
       "    </tr>\n",
       "  </thead>\n",
       "  <tbody>\n",
       "    <tr>\n",
       "      <th>iPhone</th>\n",
       "      <td>141592669400</td>\n",
       "    </tr>\n",
       "    <tr>\n",
       "      <th>Televisão</th>\n",
       "      <td>29091555000</td>\n",
       "    </tr>\n",
       "    <tr>\n",
       "      <th>Notebook</th>\n",
       "      <td>12076533000</td>\n",
       "    </tr>\n",
       "    <tr>\n",
       "      <th>Android</th>\n",
       "      <td>11558109600</td>\n",
       "    </tr>\n",
       "    <tr>\n",
       "      <th>Câmera</th>\n",
       "      <td>5666661000</td>\n",
       "    </tr>\n",
       "    <tr>\n",
       "      <th>Tablet</th>\n",
       "      <td>4547412800</td>\n",
       "    </tr>\n",
       "    <tr>\n",
       "      <th>SmartWatch</th>\n",
       "      <td>4151140000</td>\n",
       "    </tr>\n",
       "  </tbody>\n",
       "</table>\n",
       "</div>"
      ],
      "text/plain": [
       "             Faturamento\n",
       "Produto                 \n",
       "iPhone      141592669400\n",
       "Televisão    29091555000\n",
       "Notebook     12076533000\n",
       "Android      11558109600\n",
       "Câmera        5666661000\n",
       "Tablet        4547412800\n",
       "SmartWatch    4151140000"
      ]
     },
     "metadata": {},
     "output_type": "display_data"
    }
   ],
   "source": [
    "#Agora vamos calcular o produto com o maior faturamento\n",
    "tabela_faturamento = tabela_total[[\"Produto\",\"Quantidade Vendida\",\"Preco Unitario\"]].groupby(\"Produto\").sum()\n",
    "tabela_faturamento[\"Faturamento\"] = tabela_faturamento[\"Quantidade Vendida\"] * tabela_faturamento[\"Preco Unitario\"]\n",
    "display(tabela_faturamento[[\"Faturamento\"]].sort_values(by=\"Faturamento\",ascending=0))"
   ]
  },
  {
   "cell_type": "code",
   "execution_count": 11,
   "id": "b01576fc",
   "metadata": {
    "scrolled": true
   },
   "outputs": [
    {
     "data": {
      "text/html": [
       "<div>\n",
       "<style scoped>\n",
       "    .dataframe tbody tr th:only-of-type {\n",
       "        vertical-align: middle;\n",
       "    }\n",
       "\n",
       "    .dataframe tbody tr th {\n",
       "        vertical-align: top;\n",
       "    }\n",
       "\n",
       "    .dataframe thead th {\n",
       "        text-align: right;\n",
       "    }\n",
       "</style>\n",
       "<table border=\"1\" class=\"dataframe\">\n",
       "  <thead>\n",
       "    <tr style=\"text-align: right;\">\n",
       "      <th></th>\n",
       "      <th>Faturamento_per_loja</th>\n",
       "      <th>Cidade</th>\n",
       "    </tr>\n",
       "  </thead>\n",
       "  <tbody>\n",
       "    <tr>\n",
       "      <th>0</th>\n",
       "      <td>48991164400</td>\n",
       "      <td>São Paulo</td>\n",
       "    </tr>\n",
       "    <tr>\n",
       "      <th>1</th>\n",
       "      <td>21834527900</td>\n",
       "      <td>Rio de Janeiro</td>\n",
       "    </tr>\n",
       "    <tr>\n",
       "      <th>2</th>\n",
       "      <td>20388672000</td>\n",
       "      <td>Fortaleza</td>\n",
       "    </tr>\n",
       "    <tr>\n",
       "      <th>3</th>\n",
       "      <td>17500939300</td>\n",
       "      <td>Salvador</td>\n",
       "    </tr>\n",
       "    <tr>\n",
       "      <th>4</th>\n",
       "      <td>5429451400</td>\n",
       "      <td>Goiás</td>\n",
       "    </tr>\n",
       "    <tr>\n",
       "      <th>5</th>\n",
       "      <td>5322384000</td>\n",
       "      <td>Recife</td>\n",
       "    </tr>\n",
       "    <tr>\n",
       "      <th>6</th>\n",
       "      <td>5027317200</td>\n",
       "      <td>Curitiba</td>\n",
       "    </tr>\n",
       "    <tr>\n",
       "      <th>7</th>\n",
       "      <td>4848045900</td>\n",
       "      <td>Porto Alegre</td>\n",
       "    </tr>\n",
       "    <tr>\n",
       "      <th>8</th>\n",
       "      <td>4139135000</td>\n",
       "      <td>Belo Horizonte</td>\n",
       "    </tr>\n",
       "  </tbody>\n",
       "</table>\n",
       "</div>"
      ],
      "text/plain": [
       "   Faturamento_per_loja          Cidade\n",
       "0           48991164400       São Paulo\n",
       "1           21834527900  Rio de Janeiro\n",
       "2           20388672000       Fortaleza\n",
       "3           17500939300        Salvador\n",
       "4            5429451400           Goiás\n",
       "5            5322384000          Recife\n",
       "6            5027317200        Curitiba\n",
       "7            4848045900    Porto Alegre\n",
       "8            4139135000  Belo Horizonte"
      ]
     },
     "metadata": {},
     "output_type": "display_data"
    }
   ],
   "source": [
    "#Vamos calcular a loja/cidade que mais vendeu e criar um dashboard\n",
    "\n",
    "tabela_loja = tabela_total[[\"Loja\",\"Quantidade Vendida\",\"Preco Unitario\"]].groupby(\"Loja\").sum()\n",
    "tabela_loja[\"Faturamento_per_loja\"] = tabela_loja[\"Quantidade Vendida\"] * tabela_loja[\"Preco Unitario\"]\n",
    "tabela_loja['Cidade'] = tabela_loja.index\n",
    "tabela_loja = tabela_loja[[\"Faturamento_per_loja\",\"Cidade\"]].sort_values(by=\"Faturamento_per_loja\",ascending=0)\n",
    "tabela_loja.reset_index(drop=True, inplace=True)\n",
    "display(tabela_loja)\n"
   ]
  },
  {
   "cell_type": "code",
   "execution_count": 15,
   "id": "ca86e324",
   "metadata": {},
   "outputs": [
    {
     "data": {
      "application/vnd.plotly.v1+json": {
       "config": {
        "plotlyServerURL": "https://plot.ly"
       },
       "data": [
        {
         "alignmentgroup": "True",
         "hovertemplate": "Cidade=%{x}<br>Faturamento_per_loja=%{y}<extra></extra>",
         "legendgroup": "",
         "marker": {
          "color": "#636efa",
          "pattern": {
           "shape": ""
          }
         },
         "name": "",
         "offsetgroup": "",
         "orientation": "v",
         "showlegend": false,
         "textposition": "auto",
         "type": "bar",
         "x": [
          "São Paulo",
          "Rio de Janeiro",
          "Fortaleza",
          "Salvador",
          "Goiás",
          "Recife",
          "Curitiba",
          "Porto Alegre",
          "Belo Horizonte"
         ],
         "xaxis": "x",
         "y": [
          48991164400,
          21834527900,
          20388672000,
          17500939300,
          5429451400,
          5322384000,
          5027317200,
          4848045900,
          4139135000
         ],
         "yaxis": "y"
        }
       ],
       "layout": {
        "barmode": "relative",
        "legend": {
         "tracegroupgap": 0
        },
        "margin": {
         "t": 60
        },
        "template": {
         "data": {
          "bar": [
           {
            "error_x": {
             "color": "#2a3f5f"
            },
            "error_y": {
             "color": "#2a3f5f"
            },
            "marker": {
             "line": {
              "color": "#E5ECF6",
              "width": 0.5
             },
             "pattern": {
              "fillmode": "overlay",
              "size": 10,
              "solidity": 0.2
             }
            },
            "type": "bar"
           }
          ],
          "barpolar": [
           {
            "marker": {
             "line": {
              "color": "#E5ECF6",
              "width": 0.5
             },
             "pattern": {
              "fillmode": "overlay",
              "size": 10,
              "solidity": 0.2
             }
            },
            "type": "barpolar"
           }
          ],
          "carpet": [
           {
            "aaxis": {
             "endlinecolor": "#2a3f5f",
             "gridcolor": "white",
             "linecolor": "white",
             "minorgridcolor": "white",
             "startlinecolor": "#2a3f5f"
            },
            "baxis": {
             "endlinecolor": "#2a3f5f",
             "gridcolor": "white",
             "linecolor": "white",
             "minorgridcolor": "white",
             "startlinecolor": "#2a3f5f"
            },
            "type": "carpet"
           }
          ],
          "choropleth": [
           {
            "colorbar": {
             "outlinewidth": 0,
             "ticks": ""
            },
            "type": "choropleth"
           }
          ],
          "contour": [
           {
            "colorbar": {
             "outlinewidth": 0,
             "ticks": ""
            },
            "colorscale": [
             [
              0,
              "#0d0887"
             ],
             [
              0.1111111111111111,
              "#46039f"
             ],
             [
              0.2222222222222222,
              "#7201a8"
             ],
             [
              0.3333333333333333,
              "#9c179e"
             ],
             [
              0.4444444444444444,
              "#bd3786"
             ],
             [
              0.5555555555555556,
              "#d8576b"
             ],
             [
              0.6666666666666666,
              "#ed7953"
             ],
             [
              0.7777777777777778,
              "#fb9f3a"
             ],
             [
              0.8888888888888888,
              "#fdca26"
             ],
             [
              1,
              "#f0f921"
             ]
            ],
            "type": "contour"
           }
          ],
          "contourcarpet": [
           {
            "colorbar": {
             "outlinewidth": 0,
             "ticks": ""
            },
            "type": "contourcarpet"
           }
          ],
          "heatmap": [
           {
            "colorbar": {
             "outlinewidth": 0,
             "ticks": ""
            },
            "colorscale": [
             [
              0,
              "#0d0887"
             ],
             [
              0.1111111111111111,
              "#46039f"
             ],
             [
              0.2222222222222222,
              "#7201a8"
             ],
             [
              0.3333333333333333,
              "#9c179e"
             ],
             [
              0.4444444444444444,
              "#bd3786"
             ],
             [
              0.5555555555555556,
              "#d8576b"
             ],
             [
              0.6666666666666666,
              "#ed7953"
             ],
             [
              0.7777777777777778,
              "#fb9f3a"
             ],
             [
              0.8888888888888888,
              "#fdca26"
             ],
             [
              1,
              "#f0f921"
             ]
            ],
            "type": "heatmap"
           }
          ],
          "heatmapgl": [
           {
            "colorbar": {
             "outlinewidth": 0,
             "ticks": ""
            },
            "colorscale": [
             [
              0,
              "#0d0887"
             ],
             [
              0.1111111111111111,
              "#46039f"
             ],
             [
              0.2222222222222222,
              "#7201a8"
             ],
             [
              0.3333333333333333,
              "#9c179e"
             ],
             [
              0.4444444444444444,
              "#bd3786"
             ],
             [
              0.5555555555555556,
              "#d8576b"
             ],
             [
              0.6666666666666666,
              "#ed7953"
             ],
             [
              0.7777777777777778,
              "#fb9f3a"
             ],
             [
              0.8888888888888888,
              "#fdca26"
             ],
             [
              1,
              "#f0f921"
             ]
            ],
            "type": "heatmapgl"
           }
          ],
          "histogram": [
           {
            "marker": {
             "pattern": {
              "fillmode": "overlay",
              "size": 10,
              "solidity": 0.2
             }
            },
            "type": "histogram"
           }
          ],
          "histogram2d": [
           {
            "colorbar": {
             "outlinewidth": 0,
             "ticks": ""
            },
            "colorscale": [
             [
              0,
              "#0d0887"
             ],
             [
              0.1111111111111111,
              "#46039f"
             ],
             [
              0.2222222222222222,
              "#7201a8"
             ],
             [
              0.3333333333333333,
              "#9c179e"
             ],
             [
              0.4444444444444444,
              "#bd3786"
             ],
             [
              0.5555555555555556,
              "#d8576b"
             ],
             [
              0.6666666666666666,
              "#ed7953"
             ],
             [
              0.7777777777777778,
              "#fb9f3a"
             ],
             [
              0.8888888888888888,
              "#fdca26"
             ],
             [
              1,
              "#f0f921"
             ]
            ],
            "type": "histogram2d"
           }
          ],
          "histogram2dcontour": [
           {
            "colorbar": {
             "outlinewidth": 0,
             "ticks": ""
            },
            "colorscale": [
             [
              0,
              "#0d0887"
             ],
             [
              0.1111111111111111,
              "#46039f"
             ],
             [
              0.2222222222222222,
              "#7201a8"
             ],
             [
              0.3333333333333333,
              "#9c179e"
             ],
             [
              0.4444444444444444,
              "#bd3786"
             ],
             [
              0.5555555555555556,
              "#d8576b"
             ],
             [
              0.6666666666666666,
              "#ed7953"
             ],
             [
              0.7777777777777778,
              "#fb9f3a"
             ],
             [
              0.8888888888888888,
              "#fdca26"
             ],
             [
              1,
              "#f0f921"
             ]
            ],
            "type": "histogram2dcontour"
           }
          ],
          "mesh3d": [
           {
            "colorbar": {
             "outlinewidth": 0,
             "ticks": ""
            },
            "type": "mesh3d"
           }
          ],
          "parcoords": [
           {
            "line": {
             "colorbar": {
              "outlinewidth": 0,
              "ticks": ""
             }
            },
            "type": "parcoords"
           }
          ],
          "pie": [
           {
            "automargin": true,
            "type": "pie"
           }
          ],
          "scatter": [
           {
            "fillpattern": {
             "fillmode": "overlay",
             "size": 10,
             "solidity": 0.2
            },
            "type": "scatter"
           }
          ],
          "scatter3d": [
           {
            "line": {
             "colorbar": {
              "outlinewidth": 0,
              "ticks": ""
             }
            },
            "marker": {
             "colorbar": {
              "outlinewidth": 0,
              "ticks": ""
             }
            },
            "type": "scatter3d"
           }
          ],
          "scattercarpet": [
           {
            "marker": {
             "colorbar": {
              "outlinewidth": 0,
              "ticks": ""
             }
            },
            "type": "scattercarpet"
           }
          ],
          "scattergeo": [
           {
            "marker": {
             "colorbar": {
              "outlinewidth": 0,
              "ticks": ""
             }
            },
            "type": "scattergeo"
           }
          ],
          "scattergl": [
           {
            "marker": {
             "colorbar": {
              "outlinewidth": 0,
              "ticks": ""
             }
            },
            "type": "scattergl"
           }
          ],
          "scattermapbox": [
           {
            "marker": {
             "colorbar": {
              "outlinewidth": 0,
              "ticks": ""
             }
            },
            "type": "scattermapbox"
           }
          ],
          "scatterpolar": [
           {
            "marker": {
             "colorbar": {
              "outlinewidth": 0,
              "ticks": ""
             }
            },
            "type": "scatterpolar"
           }
          ],
          "scatterpolargl": [
           {
            "marker": {
             "colorbar": {
              "outlinewidth": 0,
              "ticks": ""
             }
            },
            "type": "scatterpolargl"
           }
          ],
          "scatterternary": [
           {
            "marker": {
             "colorbar": {
              "outlinewidth": 0,
              "ticks": ""
             }
            },
            "type": "scatterternary"
           }
          ],
          "surface": [
           {
            "colorbar": {
             "outlinewidth": 0,
             "ticks": ""
            },
            "colorscale": [
             [
              0,
              "#0d0887"
             ],
             [
              0.1111111111111111,
              "#46039f"
             ],
             [
              0.2222222222222222,
              "#7201a8"
             ],
             [
              0.3333333333333333,
              "#9c179e"
             ],
             [
              0.4444444444444444,
              "#bd3786"
             ],
             [
              0.5555555555555556,
              "#d8576b"
             ],
             [
              0.6666666666666666,
              "#ed7953"
             ],
             [
              0.7777777777777778,
              "#fb9f3a"
             ],
             [
              0.8888888888888888,
              "#fdca26"
             ],
             [
              1,
              "#f0f921"
             ]
            ],
            "type": "surface"
           }
          ],
          "table": [
           {
            "cells": {
             "fill": {
              "color": "#EBF0F8"
             },
             "line": {
              "color": "white"
             }
            },
            "header": {
             "fill": {
              "color": "#C8D4E3"
             },
             "line": {
              "color": "white"
             }
            },
            "type": "table"
           }
          ]
         },
         "layout": {
          "annotationdefaults": {
           "arrowcolor": "#2a3f5f",
           "arrowhead": 0,
           "arrowwidth": 1
          },
          "autotypenumbers": "strict",
          "coloraxis": {
           "colorbar": {
            "outlinewidth": 0,
            "ticks": ""
           }
          },
          "colorscale": {
           "diverging": [
            [
             0,
             "#8e0152"
            ],
            [
             0.1,
             "#c51b7d"
            ],
            [
             0.2,
             "#de77ae"
            ],
            [
             0.3,
             "#f1b6da"
            ],
            [
             0.4,
             "#fde0ef"
            ],
            [
             0.5,
             "#f7f7f7"
            ],
            [
             0.6,
             "#e6f5d0"
            ],
            [
             0.7,
             "#b8e186"
            ],
            [
             0.8,
             "#7fbc41"
            ],
            [
             0.9,
             "#4d9221"
            ],
            [
             1,
             "#276419"
            ]
           ],
           "sequential": [
            [
             0,
             "#0d0887"
            ],
            [
             0.1111111111111111,
             "#46039f"
            ],
            [
             0.2222222222222222,
             "#7201a8"
            ],
            [
             0.3333333333333333,
             "#9c179e"
            ],
            [
             0.4444444444444444,
             "#bd3786"
            ],
            [
             0.5555555555555556,
             "#d8576b"
            ],
            [
             0.6666666666666666,
             "#ed7953"
            ],
            [
             0.7777777777777778,
             "#fb9f3a"
            ],
            [
             0.8888888888888888,
             "#fdca26"
            ],
            [
             1,
             "#f0f921"
            ]
           ],
           "sequentialminus": [
            [
             0,
             "#0d0887"
            ],
            [
             0.1111111111111111,
             "#46039f"
            ],
            [
             0.2222222222222222,
             "#7201a8"
            ],
            [
             0.3333333333333333,
             "#9c179e"
            ],
            [
             0.4444444444444444,
             "#bd3786"
            ],
            [
             0.5555555555555556,
             "#d8576b"
            ],
            [
             0.6666666666666666,
             "#ed7953"
            ],
            [
             0.7777777777777778,
             "#fb9f3a"
            ],
            [
             0.8888888888888888,
             "#fdca26"
            ],
            [
             1,
             "#f0f921"
            ]
           ]
          },
          "colorway": [
           "#636efa",
           "#EF553B",
           "#00cc96",
           "#ab63fa",
           "#FFA15A",
           "#19d3f3",
           "#FF6692",
           "#B6E880",
           "#FF97FF",
           "#FECB52"
          ],
          "font": {
           "color": "#2a3f5f"
          },
          "geo": {
           "bgcolor": "white",
           "lakecolor": "white",
           "landcolor": "#E5ECF6",
           "showlakes": true,
           "showland": true,
           "subunitcolor": "white"
          },
          "hoverlabel": {
           "align": "left"
          },
          "hovermode": "closest",
          "mapbox": {
           "style": "light"
          },
          "paper_bgcolor": "white",
          "plot_bgcolor": "#E5ECF6",
          "polar": {
           "angularaxis": {
            "gridcolor": "white",
            "linecolor": "white",
            "ticks": ""
           },
           "bgcolor": "#E5ECF6",
           "radialaxis": {
            "gridcolor": "white",
            "linecolor": "white",
            "ticks": ""
           }
          },
          "scene": {
           "xaxis": {
            "backgroundcolor": "#E5ECF6",
            "gridcolor": "white",
            "gridwidth": 2,
            "linecolor": "white",
            "showbackground": true,
            "ticks": "",
            "zerolinecolor": "white"
           },
           "yaxis": {
            "backgroundcolor": "#E5ECF6",
            "gridcolor": "white",
            "gridwidth": 2,
            "linecolor": "white",
            "showbackground": true,
            "ticks": "",
            "zerolinecolor": "white"
           },
           "zaxis": {
            "backgroundcolor": "#E5ECF6",
            "gridcolor": "white",
            "gridwidth": 2,
            "linecolor": "white",
            "showbackground": true,
            "ticks": "",
            "zerolinecolor": "white"
           }
          },
          "shapedefaults": {
           "line": {
            "color": "#2a3f5f"
           }
          },
          "ternary": {
           "aaxis": {
            "gridcolor": "white",
            "linecolor": "white",
            "ticks": ""
           },
           "baxis": {
            "gridcolor": "white",
            "linecolor": "white",
            "ticks": ""
           },
           "bgcolor": "#E5ECF6",
           "caxis": {
            "gridcolor": "white",
            "linecolor": "white",
            "ticks": ""
           }
          },
          "title": {
           "x": 0.05
          },
          "xaxis": {
           "automargin": true,
           "gridcolor": "white",
           "linecolor": "white",
           "ticks": "",
           "title": {
            "standoff": 15
           },
           "zerolinecolor": "white",
           "zerolinewidth": 2
          },
          "yaxis": {
           "automargin": true,
           "gridcolor": "white",
           "linecolor": "white",
           "ticks": "",
           "title": {
            "standoff": 15
           },
           "zerolinecolor": "white",
           "zerolinewidth": 2
          }
         }
        },
        "xaxis": {
         "anchor": "y",
         "domain": [
          0,
          1
         ],
         "title": {
          "text": "Cidade"
         }
        },
        "yaxis": {
         "anchor": "x",
         "domain": [
          0,
          1
         ],
         "title": {
          "text": "Faturamento_per_loja"
         }
        }
       }
      },
      "text/html": [
       "<div>                            <div id=\"63eefd3e-e3b4-4041-93a6-ff5ff53db630\" class=\"plotly-graph-div\" style=\"height:525px; width:100%;\"></div>            <script type=\"text/javascript\">                require([\"plotly\"], function(Plotly) {                    window.PLOTLYENV=window.PLOTLYENV || {};                                    if (document.getElementById(\"63eefd3e-e3b4-4041-93a6-ff5ff53db630\")) {                    Plotly.newPlot(                        \"63eefd3e-e3b4-4041-93a6-ff5ff53db630\",                        [{\"alignmentgroup\":\"True\",\"hovertemplate\":\"Cidade=%{x}\\u003cbr\\u003eFaturamento_per_loja=%{y}\\u003cextra\\u003e\\u003c\\u002fextra\\u003e\",\"legendgroup\":\"\",\"marker\":{\"color\":\"#636efa\",\"pattern\":{\"shape\":\"\"}},\"name\":\"\",\"offsetgroup\":\"\",\"orientation\":\"v\",\"showlegend\":false,\"textposition\":\"auto\",\"x\":[\"S\\u00e3o Paulo\",\"Rio de Janeiro\",\"Fortaleza\",\"Salvador\",\"Goi\\u00e1s\",\"Recife\",\"Curitiba\",\"Porto Alegre\",\"Belo Horizonte\"],\"xaxis\":\"x\",\"y\":[48991164400,21834527900,20388672000,17500939300,5429451400,5322384000,5027317200,4848045900,4139135000],\"yaxis\":\"y\",\"type\":\"bar\"}],                        {\"template\":{\"data\":{\"histogram2dcontour\":[{\"type\":\"histogram2dcontour\",\"colorbar\":{\"outlinewidth\":0,\"ticks\":\"\"},\"colorscale\":[[0.0,\"#0d0887\"],[0.1111111111111111,\"#46039f\"],[0.2222222222222222,\"#7201a8\"],[0.3333333333333333,\"#9c179e\"],[0.4444444444444444,\"#bd3786\"],[0.5555555555555556,\"#d8576b\"],[0.6666666666666666,\"#ed7953\"],[0.7777777777777778,\"#fb9f3a\"],[0.8888888888888888,\"#fdca26\"],[1.0,\"#f0f921\"]]}],\"choropleth\":[{\"type\":\"choropleth\",\"colorbar\":{\"outlinewidth\":0,\"ticks\":\"\"}}],\"histogram2d\":[{\"type\":\"histogram2d\",\"colorbar\":{\"outlinewidth\":0,\"ticks\":\"\"},\"colorscale\":[[0.0,\"#0d0887\"],[0.1111111111111111,\"#46039f\"],[0.2222222222222222,\"#7201a8\"],[0.3333333333333333,\"#9c179e\"],[0.4444444444444444,\"#bd3786\"],[0.5555555555555556,\"#d8576b\"],[0.6666666666666666,\"#ed7953\"],[0.7777777777777778,\"#fb9f3a\"],[0.8888888888888888,\"#fdca26\"],[1.0,\"#f0f921\"]]}],\"heatmap\":[{\"type\":\"heatmap\",\"colorbar\":{\"outlinewidth\":0,\"ticks\":\"\"},\"colorscale\":[[0.0,\"#0d0887\"],[0.1111111111111111,\"#46039f\"],[0.2222222222222222,\"#7201a8\"],[0.3333333333333333,\"#9c179e\"],[0.4444444444444444,\"#bd3786\"],[0.5555555555555556,\"#d8576b\"],[0.6666666666666666,\"#ed7953\"],[0.7777777777777778,\"#fb9f3a\"],[0.8888888888888888,\"#fdca26\"],[1.0,\"#f0f921\"]]}],\"heatmapgl\":[{\"type\":\"heatmapgl\",\"colorbar\":{\"outlinewidth\":0,\"ticks\":\"\"},\"colorscale\":[[0.0,\"#0d0887\"],[0.1111111111111111,\"#46039f\"],[0.2222222222222222,\"#7201a8\"],[0.3333333333333333,\"#9c179e\"],[0.4444444444444444,\"#bd3786\"],[0.5555555555555556,\"#d8576b\"],[0.6666666666666666,\"#ed7953\"],[0.7777777777777778,\"#fb9f3a\"],[0.8888888888888888,\"#fdca26\"],[1.0,\"#f0f921\"]]}],\"contourcarpet\":[{\"type\":\"contourcarpet\",\"colorbar\":{\"outlinewidth\":0,\"ticks\":\"\"}}],\"contour\":[{\"type\":\"contour\",\"colorbar\":{\"outlinewidth\":0,\"ticks\":\"\"},\"colorscale\":[[0.0,\"#0d0887\"],[0.1111111111111111,\"#46039f\"],[0.2222222222222222,\"#7201a8\"],[0.3333333333333333,\"#9c179e\"],[0.4444444444444444,\"#bd3786\"],[0.5555555555555556,\"#d8576b\"],[0.6666666666666666,\"#ed7953\"],[0.7777777777777778,\"#fb9f3a\"],[0.8888888888888888,\"#fdca26\"],[1.0,\"#f0f921\"]]}],\"surface\":[{\"type\":\"surface\",\"colorbar\":{\"outlinewidth\":0,\"ticks\":\"\"},\"colorscale\":[[0.0,\"#0d0887\"],[0.1111111111111111,\"#46039f\"],[0.2222222222222222,\"#7201a8\"],[0.3333333333333333,\"#9c179e\"],[0.4444444444444444,\"#bd3786\"],[0.5555555555555556,\"#d8576b\"],[0.6666666666666666,\"#ed7953\"],[0.7777777777777778,\"#fb9f3a\"],[0.8888888888888888,\"#fdca26\"],[1.0,\"#f0f921\"]]}],\"mesh3d\":[{\"type\":\"mesh3d\",\"colorbar\":{\"outlinewidth\":0,\"ticks\":\"\"}}],\"scatter\":[{\"fillpattern\":{\"fillmode\":\"overlay\",\"size\":10,\"solidity\":0.2},\"type\":\"scatter\"}],\"parcoords\":[{\"type\":\"parcoords\",\"line\":{\"colorbar\":{\"outlinewidth\":0,\"ticks\":\"\"}}}],\"scatterpolargl\":[{\"type\":\"scatterpolargl\",\"marker\":{\"colorbar\":{\"outlinewidth\":0,\"ticks\":\"\"}}}],\"bar\":[{\"error_x\":{\"color\":\"#2a3f5f\"},\"error_y\":{\"color\":\"#2a3f5f\"},\"marker\":{\"line\":{\"color\":\"#E5ECF6\",\"width\":0.5},\"pattern\":{\"fillmode\":\"overlay\",\"size\":10,\"solidity\":0.2}},\"type\":\"bar\"}],\"scattergeo\":[{\"type\":\"scattergeo\",\"marker\":{\"colorbar\":{\"outlinewidth\":0,\"ticks\":\"\"}}}],\"scatterpolar\":[{\"type\":\"scatterpolar\",\"marker\":{\"colorbar\":{\"outlinewidth\":0,\"ticks\":\"\"}}}],\"histogram\":[{\"marker\":{\"pattern\":{\"fillmode\":\"overlay\",\"size\":10,\"solidity\":0.2}},\"type\":\"histogram\"}],\"scattergl\":[{\"type\":\"scattergl\",\"marker\":{\"colorbar\":{\"outlinewidth\":0,\"ticks\":\"\"}}}],\"scatter3d\":[{\"type\":\"scatter3d\",\"line\":{\"colorbar\":{\"outlinewidth\":0,\"ticks\":\"\"}},\"marker\":{\"colorbar\":{\"outlinewidth\":0,\"ticks\":\"\"}}}],\"scattermapbox\":[{\"type\":\"scattermapbox\",\"marker\":{\"colorbar\":{\"outlinewidth\":0,\"ticks\":\"\"}}}],\"scatterternary\":[{\"type\":\"scatterternary\",\"marker\":{\"colorbar\":{\"outlinewidth\":0,\"ticks\":\"\"}}}],\"scattercarpet\":[{\"type\":\"scattercarpet\",\"marker\":{\"colorbar\":{\"outlinewidth\":0,\"ticks\":\"\"}}}],\"carpet\":[{\"aaxis\":{\"endlinecolor\":\"#2a3f5f\",\"gridcolor\":\"white\",\"linecolor\":\"white\",\"minorgridcolor\":\"white\",\"startlinecolor\":\"#2a3f5f\"},\"baxis\":{\"endlinecolor\":\"#2a3f5f\",\"gridcolor\":\"white\",\"linecolor\":\"white\",\"minorgridcolor\":\"white\",\"startlinecolor\":\"#2a3f5f\"},\"type\":\"carpet\"}],\"table\":[{\"cells\":{\"fill\":{\"color\":\"#EBF0F8\"},\"line\":{\"color\":\"white\"}},\"header\":{\"fill\":{\"color\":\"#C8D4E3\"},\"line\":{\"color\":\"white\"}},\"type\":\"table\"}],\"barpolar\":[{\"marker\":{\"line\":{\"color\":\"#E5ECF6\",\"width\":0.5},\"pattern\":{\"fillmode\":\"overlay\",\"size\":10,\"solidity\":0.2}},\"type\":\"barpolar\"}],\"pie\":[{\"automargin\":true,\"type\":\"pie\"}]},\"layout\":{\"autotypenumbers\":\"strict\",\"colorway\":[\"#636efa\",\"#EF553B\",\"#00cc96\",\"#ab63fa\",\"#FFA15A\",\"#19d3f3\",\"#FF6692\",\"#B6E880\",\"#FF97FF\",\"#FECB52\"],\"font\":{\"color\":\"#2a3f5f\"},\"hovermode\":\"closest\",\"hoverlabel\":{\"align\":\"left\"},\"paper_bgcolor\":\"white\",\"plot_bgcolor\":\"#E5ECF6\",\"polar\":{\"bgcolor\":\"#E5ECF6\",\"angularaxis\":{\"gridcolor\":\"white\",\"linecolor\":\"white\",\"ticks\":\"\"},\"radialaxis\":{\"gridcolor\":\"white\",\"linecolor\":\"white\",\"ticks\":\"\"}},\"ternary\":{\"bgcolor\":\"#E5ECF6\",\"aaxis\":{\"gridcolor\":\"white\",\"linecolor\":\"white\",\"ticks\":\"\"},\"baxis\":{\"gridcolor\":\"white\",\"linecolor\":\"white\",\"ticks\":\"\"},\"caxis\":{\"gridcolor\":\"white\",\"linecolor\":\"white\",\"ticks\":\"\"}},\"coloraxis\":{\"colorbar\":{\"outlinewidth\":0,\"ticks\":\"\"}},\"colorscale\":{\"sequential\":[[0.0,\"#0d0887\"],[0.1111111111111111,\"#46039f\"],[0.2222222222222222,\"#7201a8\"],[0.3333333333333333,\"#9c179e\"],[0.4444444444444444,\"#bd3786\"],[0.5555555555555556,\"#d8576b\"],[0.6666666666666666,\"#ed7953\"],[0.7777777777777778,\"#fb9f3a\"],[0.8888888888888888,\"#fdca26\"],[1.0,\"#f0f921\"]],\"sequentialminus\":[[0.0,\"#0d0887\"],[0.1111111111111111,\"#46039f\"],[0.2222222222222222,\"#7201a8\"],[0.3333333333333333,\"#9c179e\"],[0.4444444444444444,\"#bd3786\"],[0.5555555555555556,\"#d8576b\"],[0.6666666666666666,\"#ed7953\"],[0.7777777777777778,\"#fb9f3a\"],[0.8888888888888888,\"#fdca26\"],[1.0,\"#f0f921\"]],\"diverging\":[[0,\"#8e0152\"],[0.1,\"#c51b7d\"],[0.2,\"#de77ae\"],[0.3,\"#f1b6da\"],[0.4,\"#fde0ef\"],[0.5,\"#f7f7f7\"],[0.6,\"#e6f5d0\"],[0.7,\"#b8e186\"],[0.8,\"#7fbc41\"],[0.9,\"#4d9221\"],[1,\"#276419\"]]},\"xaxis\":{\"gridcolor\":\"white\",\"linecolor\":\"white\",\"ticks\":\"\",\"title\":{\"standoff\":15},\"zerolinecolor\":\"white\",\"automargin\":true,\"zerolinewidth\":2},\"yaxis\":{\"gridcolor\":\"white\",\"linecolor\":\"white\",\"ticks\":\"\",\"title\":{\"standoff\":15},\"zerolinecolor\":\"white\",\"automargin\":true,\"zerolinewidth\":2},\"scene\":{\"xaxis\":{\"backgroundcolor\":\"#E5ECF6\",\"gridcolor\":\"white\",\"linecolor\":\"white\",\"showbackground\":true,\"ticks\":\"\",\"zerolinecolor\":\"white\",\"gridwidth\":2},\"yaxis\":{\"backgroundcolor\":\"#E5ECF6\",\"gridcolor\":\"white\",\"linecolor\":\"white\",\"showbackground\":true,\"ticks\":\"\",\"zerolinecolor\":\"white\",\"gridwidth\":2},\"zaxis\":{\"backgroundcolor\":\"#E5ECF6\",\"gridcolor\":\"white\",\"linecolor\":\"white\",\"showbackground\":true,\"ticks\":\"\",\"zerolinecolor\":\"white\",\"gridwidth\":2}},\"shapedefaults\":{\"line\":{\"color\":\"#2a3f5f\"}},\"annotationdefaults\":{\"arrowcolor\":\"#2a3f5f\",\"arrowhead\":0,\"arrowwidth\":1},\"geo\":{\"bgcolor\":\"white\",\"landcolor\":\"#E5ECF6\",\"subunitcolor\":\"white\",\"showland\":true,\"showlakes\":true,\"lakecolor\":\"white\"},\"title\":{\"x\":0.05},\"mapbox\":{\"style\":\"light\"}}},\"xaxis\":{\"anchor\":\"y\",\"domain\":[0.0,1.0],\"title\":{\"text\":\"Cidade\"}},\"yaxis\":{\"anchor\":\"x\",\"domain\":[0.0,1.0],\"title\":{\"text\":\"Faturamento_per_loja\"}},\"legend\":{\"tracegroupgap\":0},\"margin\":{\"t\":60},\"barmode\":\"relative\"},                        {\"responsive\": true}                    ).then(function(){\n",
       "                            \n",
       "var gd = document.getElementById('63eefd3e-e3b4-4041-93a6-ff5ff53db630');\n",
       "var x = new MutationObserver(function (mutations, observer) {{\n",
       "        var display = window.getComputedStyle(gd).display;\n",
       "        if (!display || display === 'none') {{\n",
       "            console.log([gd, 'removed!']);\n",
       "            Plotly.purge(gd);\n",
       "            observer.disconnect();\n",
       "        }}\n",
       "}});\n",
       "\n",
       "// Listen for the removal of the full notebook cells\n",
       "var notebookContainer = gd.closest('#notebook-container');\n",
       "if (notebookContainer) {{\n",
       "    x.observe(notebookContainer, {childList: true});\n",
       "}}\n",
       "\n",
       "// Listen for the clearing of the current output cell\n",
       "var outputEl = gd.closest('.output');\n",
       "if (outputEl) {{\n",
       "    x.observe(outputEl, {childList: true});\n",
       "}}\n",
       "\n",
       "                        })                };                });            </script>        </div>"
      ]
     },
     "metadata": {},
     "output_type": "display_data"
    }
   ],
   "source": [
    "grafico = px.bar(tabela_loja,x = \"Cidade\" ,y = \"Faturamento_per_loja\")\n",
    "grafico.show()"
   ]
  }
 ],
 "metadata": {
  "kernelspec": {
   "display_name": "Python 3 (ipykernel)",
   "language": "python",
   "name": "python3"
  },
  "language_info": {
   "codemirror_mode": {
    "name": "ipython",
    "version": 3
   },
   "file_extension": ".py",
   "mimetype": "text/x-python",
   "name": "python",
   "nbconvert_exporter": "python",
   "pygments_lexer": "ipython3",
   "version": "3.11.4"
  }
 },
 "nbformat": 4,
 "nbformat_minor": 5
}
